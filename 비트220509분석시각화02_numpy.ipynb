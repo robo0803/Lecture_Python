{
  "nbformat": 4,
  "nbformat_minor": 0,
  "metadata": {
    "colab": {
      "name": "비트220509분석시각화02-numpy.ipynb",
      "provenance": [],
      "mount_file_id": "1eW66KxsEHnwWAjCEAY0jIyXMXSRncmjl",
      "authorship_tag": "ABX9TyM1b9qxPq4d09SP+4UrOVym",
      "include_colab_link": true
    },
    "kernelspec": {
      "name": "python3",
      "display_name": "Python 3"
    },
    "language_info": {
      "name": "python"
    }
  },
  "cells": [
    {
      "cell_type": "markdown",
      "metadata": {
        "id": "view-in-github",
        "colab_type": "text"
      },
      "source": [
        "<a href=\"https://colab.research.google.com/github/robo0803/Lecture_Python/blob/master/%EB%B9%84%ED%8A%B8220509%EB%B6%84%EC%84%9D%EC%8B%9C%EA%B0%81%ED%99%9402_numpy.ipynb\" target=\"_parent\"><img src=\"https://colab.research.google.com/assets/colab-badge.svg\" alt=\"Open In Colab\"/></a>"
      ]
    },
    {
      "cell_type": "markdown",
      "source": [
        "# Numpy 라이브러리\n",
        "\n",
        "메뉴얼 사이트 : https://numpy.org/"
      ],
      "metadata": {
        "id": "vFw7hfYeIhap"
      }
    },
    {
      "cell_type": "code",
      "source": [
        "import numpy as np"
      ],
      "metadata": {
        "id": "XClgvaZJInWT"
      },
      "execution_count": null,
      "outputs": []
    },
    {
      "cell_type": "code",
      "source": [
        "ls = [1,2,5,6,7]\n",
        "arr = np.array(ls)\n",
        "print(arr)"
      ],
      "metadata": {
        "colab": {
          "base_uri": "https://localhost:8080/"
        },
        "id": "BrFmClAcJJkQ",
        "outputId": "38202594-955a-4184-8c97-efa9d22bbe33"
      },
      "execution_count": null,
      "outputs": [
        {
          "output_type": "stream",
          "name": "stdout",
          "text": [
            "[1 2 5 6 7]\n"
          ]
        }
      ]
    },
    {
      "cell_type": "code",
      "source": [
        "ls2 = [1,'a',2.3]\n",
        "arr2 = np.array(ls2)\n",
        "print(type(ls2[0]),type(ls2[1]),type(ls2[2]))\n",
        "print(type(arr2[0]),type(arr2[1]),type(arr2[2]))\n",
        "print(arr2)"
      ],
      "metadata": {
        "colab": {
          "base_uri": "https://localhost:8080/"
        },
        "id": "Wjw02nTZJiFi",
        "outputId": "6ac577a3-4e53-4218-aa2a-7e4b40964dd6"
      },
      "execution_count": null,
      "outputs": [
        {
          "output_type": "stream",
          "name": "stdout",
          "text": [
            "<class 'int'> <class 'str'> <class 'float'>\n",
            "<class 'numpy.str_'> <class 'numpy.str_'> <class 'numpy.str_'>\n",
            "['1' 'a' '2.3']\n"
          ]
        }
      ]
    },
    {
      "cell_type": "code",
      "source": [
        "ls3 = [[1,2,3],[2,3],[4,5,6,7]]\n",
        "# arr3 = np.array(ls3) numpy의 배열은 원소 형식이 같아야 한다. \n",
        "arr3 = np.array([[1,2],[3,4],[5,6]])\n",
        "print(arr3)"
      ],
      "metadata": {
        "colab": {
          "base_uri": "https://localhost:8080/"
        },
        "id": "DokfZZr5J7x5",
        "outputId": "6087c112-8592-47e1-c239-5b10fa28c573"
      },
      "execution_count": null,
      "outputs": [
        {
          "output_type": "stream",
          "name": "stdout",
          "text": [
            "[[1 2]\n",
            " [3 4]\n",
            " [5 6]]\n"
          ]
        }
      ]
    },
    {
      "cell_type": "code",
      "source": [
        "ls4 = list(range(10))\n",
        "arr4 = np.arange(10)\n",
        "print(arr4)"
      ],
      "metadata": {
        "colab": {
          "base_uri": "https://localhost:8080/"
        },
        "id": "3jIUqK-JKwYl",
        "outputId": "155d0523-458a-4dce-a955-15ba6a55047d"
      },
      "execution_count": null,
      "outputs": [
        {
          "output_type": "stream",
          "name": "stdout",
          "text": [
            "[0 1 2 3 4 5 6 7 8 9]\n"
          ]
        }
      ]
    },
    {
      "cell_type": "code",
      "source": [
        "ls5 = ls4*2\n",
        "arr5 = arr4*2   # numpy 배열은 행렬 연산을 제공한다. \n",
        "print(ls5)\n",
        "print('---------------------------------------------------')\n",
        "print(arr5)\n"
      ],
      "metadata": {
        "colab": {
          "base_uri": "https://localhost:8080/"
        },
        "id": "TWHOgqNCLpEK",
        "outputId": "1b997671-b4c8-460d-a54a-abb2d4ab483e"
      },
      "execution_count": null,
      "outputs": [
        {
          "output_type": "stream",
          "name": "stdout",
          "text": [
            "[0, 1, 2, 3, 4, 5, 6, 7, 8, 9, 0, 1, 2, 3, 4, 5, 6, 7, 8, 9]\n",
            "---------------------------------------------------\n",
            "[ 0  2  4  6  8 10 12 14 16 18]\n"
          ]
        }
      ]
    },
    {
      "cell_type": "markdown",
      "source": [
        "# 다차원 배열"
      ],
      "metadata": {
        "id": "eWZv51rcNGCO"
      }
    },
    {
      "cell_type": "code",
      "source": [
        "arr = np.array([1,2,3])\n",
        "arr.shape"
      ],
      "metadata": {
        "colab": {
          "base_uri": "https://localhost:8080/"
        },
        "id": "vtZyaKgaNI-f",
        "outputId": "724e2cb5-23f3-47f2-9b30-6219b0d06dd7"
      },
      "execution_count": null,
      "outputs": [
        {
          "output_type": "execute_result",
          "data": {
            "text/plain": [
              "(3,)"
            ]
          },
          "metadata": {},
          "execution_count": 23
        }
      ]
    },
    {
      "cell_type": "code",
      "source": [
        "arr2 = np.array([[1,2,3],[4,5,6]])\n",
        "arr2.shape # 3개로 구성된 원소가 2개 있음"
      ],
      "metadata": {
        "colab": {
          "base_uri": "https://localhost:8080/"
        },
        "id": "u6J08tIENL-L",
        "outputId": "2f85c1d2-1511-4f73-8bbe-3ca5b0028ef0"
      },
      "execution_count": null,
      "outputs": [
        {
          "output_type": "execute_result",
          "data": {
            "text/plain": [
              "(2, 3)"
            ]
          },
          "metadata": {},
          "execution_count": 24
        }
      ]
    },
    {
      "cell_type": "code",
      "source": [
        "arr3 = np.random.randn(2,3)\n",
        "print(arr3.shape)\n",
        "print(arr3)"
      ],
      "metadata": {
        "colab": {
          "base_uri": "https://localhost:8080/"
        },
        "id": "R6NBwFbFNRs6",
        "outputId": "993c78bb-102e-4e8c-cf79-673ae2e071a5"
      },
      "execution_count": null,
      "outputs": [
        {
          "output_type": "stream",
          "name": "stdout",
          "text": [
            "(2, 3)\n",
            "[[-0.12492834  0.50777916 -0.05246397]\n",
            " [ 0.70667612 -0.6372649   0.04867589]]\n"
          ]
        }
      ]
    },
    {
      "cell_type": "code",
      "source": [
        "arr1 = np.array([[1,2],[3,4]])\n",
        "arr2 = np.array([[5,2],[1,3]])\n",
        "arr3 = arr1 + arr2\n",
        "print(arr3)"
      ],
      "metadata": {
        "colab": {
          "base_uri": "https://localhost:8080/"
        },
        "id": "o19-gph0NsaO",
        "outputId": "d14a32be-8805-43da-aa87-3d52aba03fe2"
      },
      "execution_count": null,
      "outputs": [
        {
          "output_type": "stream",
          "name": "stdout",
          "text": [
            "[[6 4]\n",
            " [4 7]]\n"
          ]
        }
      ]
    },
    {
      "cell_type": "code",
      "source": [
        "arr = np.array([1,2,'a',3.23])\n",
        "arr.dtype  #dtype : 원소형식을 나타내는것\n"
      ],
      "metadata": {
        "colab": {
          "base_uri": "https://localhost:8080/"
        },
        "id": "x-LNjOC9OJxT",
        "outputId": "3d84312e-ff9c-42db-e987-a8803d8adeec"
      },
      "execution_count": null,
      "outputs": [
        {
          "output_type": "execute_result",
          "data": {
            "text/plain": [
              "dtype('<U32')"
            ]
          },
          "metadata": {},
          "execution_count": 27
        }
      ]
    },
    {
      "cell_type": "code",
      "source": [
        "arr = np.array([1,2,3,4])\n",
        "arr.dtype"
      ],
      "metadata": {
        "colab": {
          "base_uri": "https://localhost:8080/"
        },
        "id": "yMMKSdvfOeln",
        "outputId": "fe915cbb-0329-44e2-ddde-72ed3da52151"
      },
      "execution_count": null,
      "outputs": [
        {
          "output_type": "execute_result",
          "data": {
            "text/plain": [
              "dtype('int64')"
            ]
          },
          "metadata": {},
          "execution_count": 28
        }
      ]
    },
    {
      "cell_type": "code",
      "source": [
        "arr = np.array([1,2,3,4.0])\n",
        "arr.dtype  # 하나라도 실수면 다 실수로 보관함"
      ],
      "metadata": {
        "colab": {
          "base_uri": "https://localhost:8080/"
        },
        "id": "xtPvUbmcOmvT",
        "outputId": "ecc6648d-4baa-4b02-d95f-f4c66ba1d38a"
      },
      "execution_count": null,
      "outputs": [
        {
          "output_type": "execute_result",
          "data": {
            "text/plain": [
              "dtype('float64')"
            ]
          },
          "metadata": {},
          "execution_count": 29
        }
      ]
    },
    {
      "cell_type": "code",
      "source": [
        "arr = np.array([1, 'a',2.3])\n",
        "print(type(arr[0]),type(arr[1]),type(arr[2]))\n",
        "print(arr.dtype) # string이 아니라 u32는 유니코드다.. 즉 문자열이다(가장 큰 문자열 길이만큼 메모리 할당함)"
      ],
      "metadata": {
        "colab": {
          "base_uri": "https://localhost:8080/"
        },
        "id": "VbmyHveSOqxy",
        "outputId": "cf397d07-d66e-4c8c-e9ff-ceeca04c5b82"
      },
      "execution_count": null,
      "outputs": [
        {
          "output_type": "stream",
          "name": "stdout",
          "text": [
            "<class 'numpy.str_'> <class 'numpy.str_'> <class 'numpy.str_'>\n",
            "<U32\n"
          ]
        }
      ]
    },
    {
      "cell_type": "code",
      "source": [
        ""
      ],
      "metadata": {
        "id": "5U2ZNUc2O7Sp"
      },
      "execution_count": null,
      "outputs": []
    },
    {
      "cell_type": "markdown",
      "source": [
        "## 배열 생성\n",
        "\n",
        "\n"
      ],
      "metadata": {
        "id": "z6zVHZUbPgGP"
      }
    },
    {
      "cell_type": "code",
      "source": [
        "arr = np.array([1,2,3]) # 리스트를 입력 인자로 배열 개체 생성\n",
        "print(arr)"
      ],
      "metadata": {
        "colab": {
          "base_uri": "https://localhost:8080/"
        },
        "id": "wjgKku9hPg9j",
        "outputId": "712e1e07-d226-490c-d4dd-7e6aa9e63514"
      },
      "execution_count": null,
      "outputs": [
        {
          "output_type": "stream",
          "name": "stdout",
          "text": [
            "[1 2 3]\n"
          ]
        }
      ]
    },
    {
      "cell_type": "code",
      "source": [
        "arr2 = np.array([[1,2,3],[4,5,6]]) # 리스트를 입력 인자로 배열 개체 생성\n",
        "print(arr2)"
      ],
      "metadata": {
        "colab": {
          "base_uri": "https://localhost:8080/"
        },
        "id": "WPoQ7hIfPkHX",
        "outputId": "6d4adc75-cd63-48f8-b6a0-452d3d6474d7"
      },
      "execution_count": null,
      "outputs": [
        {
          "output_type": "stream",
          "name": "stdout",
          "text": [
            "[[1 2 3]\n",
            " [4 5 6]]\n"
          ]
        }
      ]
    },
    {
      "cell_type": "code",
      "source": [
        "print('차원:',arr2.ndim)\n",
        "print('구조:',arr2.shape)"
      ],
      "metadata": {
        "colab": {
          "base_uri": "https://localhost:8080/"
        },
        "id": "0DtwSDBnPtbf",
        "outputId": "67d99720-3780-44ae-ed08-c2d7627e9e20"
      },
      "execution_count": null,
      "outputs": [
        {
          "output_type": "stream",
          "name": "stdout",
          "text": [
            "차원: 2\n",
            "구조: (2, 3)\n"
          ]
        }
      ]
    },
    {
      "cell_type": "code",
      "source": [
        "arr3 = np.zeros(10) # 0을 원소로 하는 배열\n",
        "print(arr3)"
      ],
      "metadata": {
        "colab": {
          "base_uri": "https://localhost:8080/"
        },
        "id": "MEhVxESfP6l1",
        "outputId": "6641832d-e732-4383-caab-b8b2b80f09c1"
      },
      "execution_count": null,
      "outputs": [
        {
          "output_type": "stream",
          "name": "stdout",
          "text": [
            "[0. 0. 0. 0. 0. 0. 0. 0. 0. 0.]\n"
          ]
        }
      ]
    },
    {
      "cell_type": "code",
      "source": [
        "arr4 = np.zeros((4,5)) # 0을 원소로 4X5 구조의 배열 생성\n",
        "print(arr4)"
      ],
      "metadata": {
        "colab": {
          "base_uri": "https://localhost:8080/"
        },
        "id": "NpjCeE2SQqUz",
        "outputId": "8e1733f3-13eb-4553-fdc9-13412d2ba18c"
      },
      "execution_count": null,
      "outputs": [
        {
          "output_type": "stream",
          "name": "stdout",
          "text": [
            "[[0. 0. 0. 0. 0.]\n",
            " [0. 0. 0. 0. 0.]\n",
            " [0. 0. 0. 0. 0.]\n",
            " [0. 0. 0. 0. 0.]]\n"
          ]
        }
      ]
    },
    {
      "cell_type": "code",
      "source": [
        "arr5 = np.ones(10) # 1을 원소로 하는 배열\n",
        "print(arr5)\n",
        "arr6 = np.ones((2,3))\n",
        "print(arr6)"
      ],
      "metadata": {
        "colab": {
          "base_uri": "https://localhost:8080/"
        },
        "id": "IRrC4AbqQzab",
        "outputId": "7e500404-29d7-44b3-aab4-4f89f787f717"
      },
      "execution_count": null,
      "outputs": [
        {
          "output_type": "stream",
          "name": "stdout",
          "text": [
            "[1. 1. 1. 1. 1. 1. 1. 1. 1. 1.]\n",
            "[[1. 1. 1.]\n",
            " [1. 1. 1.]]\n"
          ]
        }
      ]
    },
    {
      "cell_type": "code",
      "source": [
        "arr7 = np.arange(5,100,3) # 5~100까지 3씩 증가\n",
        "print(arr7)"
      ],
      "metadata": {
        "colab": {
          "base_uri": "https://localhost:8080/"
        },
        "id": "stLFLYyWRfQJ",
        "outputId": "8dfeaefa-a6fc-4732-f50f-69a8682b5773"
      },
      "execution_count": null,
      "outputs": [
        {
          "output_type": "stream",
          "name": "stdout",
          "text": [
            "[ 5  8 11 14 17 20 23 26 29 32 35 38 41 44 47 50 53 56 59 62 65 68 71 74\n",
            " 77 80 83 86 89 92 95 98]\n"
          ]
        }
      ]
    },
    {
      "cell_type": "code",
      "source": [
        ""
      ],
      "metadata": {
        "id": "pVCTw8bnRt0r"
      },
      "execution_count": null,
      "outputs": []
    },
    {
      "cell_type": "markdown",
      "source": [
        "## 원소 타입"
      ],
      "metadata": {
        "id": "V3Y_1m54WEkj"
      }
    },
    {
      "cell_type": "code",
      "source": [
        "arr = np.array([1,2,3])\n",
        "print(arr.dtype)"
      ],
      "metadata": {
        "colab": {
          "base_uri": "https://localhost:8080/"
        },
        "id": "AvD0WfBuWIbi",
        "outputId": "7ba307fd-c640-4d97-cc37-9f5bb747b84e"
      },
      "execution_count": null,
      "outputs": [
        {
          "output_type": "stream",
          "name": "stdout",
          "text": [
            "int64\n"
          ]
        }
      ]
    },
    {
      "cell_type": "code",
      "source": [
        "arr2 = np.array([1,2,3,4.3])\n",
        "print(arr2.dtype)"
      ],
      "metadata": {
        "colab": {
          "base_uri": "https://localhost:8080/"
        },
        "id": "iRPcoL1iWeDh",
        "outputId": "d4eb4390-a679-458f-fd29-eb52920d37d9"
      },
      "execution_count": null,
      "outputs": [
        {
          "output_type": "stream",
          "name": "stdout",
          "text": [
            "float64\n"
          ]
        }
      ]
    },
    {
      "cell_type": "code",
      "source": [
        "arr3 = np.array([1,2,3,4],dtype = np.float64) #dtype을 직접 지정할 수도 있음\n",
        "print(arr3.dtype)"
      ],
      "metadata": {
        "colab": {
          "base_uri": "https://localhost:8080/"
        },
        "id": "jv39auuMWjxV",
        "outputId": "a8b0656b-0025-4359-9d0e-3f16c4e65d1c"
      },
      "execution_count": null,
      "outputs": [
        {
          "output_type": "stream",
          "name": "stdout",
          "text": [
            "float64\n"
          ]
        }
      ]
    },
    {
      "cell_type": "code",
      "source": [
        "rr3 = np.array([1,2,3,4],dtype = np.float64) #dtype을 직접 지정할 수도 있음\n",
        "print(arr3)\n",
        "\n",
        "arr4 = arr3.astype(int) #원본이 바뀌지는 않음\n",
        "print(arr3)\n",
        "print(arr4)"
      ],
      "metadata": {
        "colab": {
          "base_uri": "https://localhost:8080/"
        },
        "id": "tjF0wMdLWywm",
        "outputId": "12e3603e-af50-48bb-c98f-d53e90bcfefa"
      },
      "execution_count": null,
      "outputs": [
        {
          "output_type": "stream",
          "name": "stdout",
          "text": [
            "[1. 2. 3. 4.]\n",
            "[1. 2. 3. 4.]\n",
            "[1 2 3 4]\n"
          ]
        }
      ]
    },
    {
      "cell_type": "code",
      "source": [
        ""
      ],
      "metadata": {
        "id": "Ujk9NjtHXFj8"
      },
      "execution_count": null,
      "outputs": []
    },
    {
      "cell_type": "markdown",
      "source": [
        "## 산술 연산"
      ],
      "metadata": {
        "id": "5-2PQy01Xiuz"
      }
    },
    {
      "cell_type": "code",
      "source": [
        "arr1 = np.array([[1,2,3],[3,4,5]])\n",
        "arr2 = np.array([[2,1,0],[1,2,3]])\n",
        "print('arr1',arr1)\n",
        "print('arr2',arr2)"
      ],
      "metadata": {
        "colab": {
          "base_uri": "https://localhost:8080/"
        },
        "id": "QnKK6d4RXkn6",
        "outputId": "6e587bf8-5c71-47b6-c4b9-b51245ac9eb8"
      },
      "execution_count": null,
      "outputs": [
        {
          "output_type": "stream",
          "name": "stdout",
          "text": [
            "arr1 [[1 2 3]\n",
            " [3 4 5]]\n",
            "arr2 [[2 1 0]\n",
            " [1 2 3]]\n"
          ]
        }
      ]
    },
    {
      "cell_type": "code",
      "source": [
        "arr3 = arr1 + arr2\n",
        "print('arr1+arr2\\n',arr3)"
      ],
      "metadata": {
        "colab": {
          "base_uri": "https://localhost:8080/"
        },
        "id": "gpvzajniXvka",
        "outputId": "8fc35c71-e977-4f33-ab8e-2b7c74f17576"
      },
      "execution_count": null,
      "outputs": [
        {
          "output_type": "stream",
          "name": "stdout",
          "text": [
            "arr1+arr2\n",
            " [[3 3 3]\n",
            " [4 6 8]]\n"
          ]
        }
      ]
    },
    {
      "cell_type": "code",
      "source": [
        "arr4 = arr1 - arr2\n",
        "print('arr1-arr2\\n',arr4)"
      ],
      "metadata": {
        "colab": {
          "base_uri": "https://localhost:8080/"
        },
        "id": "cXs08dO1X8Ck",
        "outputId": "dc1177a2-5e53-4f6f-a5ab-23c044ef92c7"
      },
      "execution_count": null,
      "outputs": [
        {
          "output_type": "stream",
          "name": "stdout",
          "text": [
            "arr1-arr2\n",
            " [[-1  1  3]\n",
            " [ 2  2  2]]\n"
          ]
        }
      ]
    },
    {
      "cell_type": "code",
      "source": [
        "arr5 = arr1 * arr2\n",
        "print('arr1*arr2\\n',arr5)"
      ],
      "metadata": {
        "colab": {
          "base_uri": "https://localhost:8080/"
        },
        "id": "RiBZyRSrYHyI",
        "outputId": "29471f6f-0dc7-45c8-b2e2-2c08f254981b"
      },
      "execution_count": null,
      "outputs": [
        {
          "output_type": "stream",
          "name": "stdout",
          "text": [
            "arr1*arr2\n",
            " [[ 2  2  0]\n",
            " [ 3  8 15]]\n"
          ]
        }
      ]
    },
    {
      "cell_type": "code",
      "source": [
        "#arr6 = np.dot(arr1,arr2) 내적은 앞쪽 행렬의 열과 뒤쪽 행렬의 행의 크기가 같아야 한다. \n",
        "#print(arr6)"
      ],
      "metadata": {
        "id": "HLJzub3VYLyo"
      },
      "execution_count": null,
      "outputs": []
    },
    {
      "cell_type": "code",
      "source": [
        "arr7 = arr1/3.0\n",
        "print('arr1/3.0\\n',arr7)"
      ],
      "metadata": {
        "colab": {
          "base_uri": "https://localhost:8080/"
        },
        "id": "sxPlLDj2YvbD",
        "outputId": "a4567010-4332-4411-d650-2605deeda3a4"
      },
      "execution_count": null,
      "outputs": [
        {
          "output_type": "stream",
          "name": "stdout",
          "text": [
            "arr1/3.0\n",
            " [[0.33333333 0.66666667 1.        ]\n",
            " [1.         1.33333333 1.66666667]]\n"
          ]
        }
      ]
    },
    {
      "cell_type": "code",
      "source": [
        "arr8 = arr1*3.0\n",
        "print('arr1*3.0\\n',arr8)"
      ],
      "metadata": {
        "colab": {
          "base_uri": "https://localhost:8080/"
        },
        "id": "ytGXEQY5ZKKY",
        "outputId": "e5713212-fde2-4421-8317-e8ccb8a3b333"
      },
      "execution_count": null,
      "outputs": [
        {
          "output_type": "stream",
          "name": "stdout",
          "text": [
            "arr1*3.0\n",
            " [[ 3.  6.  9.]\n",
            " [ 9. 12. 15.]]\n"
          ]
        }
      ]
    },
    {
      "cell_type": "code",
      "source": [
        ""
      ],
      "metadata": {
        "id": "7vbkn1UTZQEc"
      },
      "execution_count": null,
      "outputs": []
    },
    {
      "cell_type": "markdown",
      "source": [
        "## 간단한 활용 예"
      ],
      "metadata": {
        "id": "07br3efQZSa6"
      }
    },
    {
      "cell_type": "code",
      "source": [
        "heights = np.random.normal(172.5,scale=5,size=1000) # 표본 1000개 표준편차 5 평균 172.5\n",
        "print(sum(heights)/len(heights))"
      ],
      "metadata": {
        "colab": {
          "base_uri": "https://localhost:8080/"
        },
        "id": "Xtscoi1tZT-u",
        "outputId": "89202d52-106e-4a4d-9215-ca20d488ec83"
      },
      "execution_count": null,
      "outputs": [
        {
          "output_type": "stream",
          "name": "stdout",
          "text": [
            "172.45797334047782\n"
          ]
        }
      ]
    },
    {
      "cell_type": "code",
      "source": [
        "import matplotlib.pyplot as pit #그래프 그리기"
      ],
      "metadata": {
        "id": "gmCGHBRKZvFb"
      },
      "execution_count": null,
      "outputs": []
    },
    {
      "cell_type": "code",
      "source": [
        "pit.plot(heights)\n",
        "pit.show()"
      ],
      "metadata": {
        "colab": {
          "base_uri": "https://localhost:8080/",
          "height": 267
        },
        "id": "WJCQ9X9TaLiV",
        "outputId": "32b143a0-8859-442c-daeb-02942e173538"
      },
      "execution_count": null,
      "outputs": [
        {
          "output_type": "display_data",
          "data": {
            "text/plain": [
              "<Figure size 432x288 with 1 Axes>"
            ],
            "image/png": "[encoded data removed]"
          },
          "metadata": {
            "needs_background": "light"
          }
        }
      ]
    },
    {
      "cell_type": "code",
      "source": [
        "bins = np.zeros(45)\n",
        "for height in heights:\n",
        "  index = int(height)-150\n",
        "  bins[index]=bins[index]+1\n",
        "print(bins) # 150부터 시작"
      ],
      "metadata": {
        "colab": {
          "base_uri": "https://localhost:8080/"
        },
        "id": "AIPeEuuUaSC-",
        "outputId": "05382fce-cb11-4cfb-f221-cc2d35f6a479"
      },
      "execution_count": null,
      "outputs": [
        {
          "output_type": "stream",
          "name": "stdout",
          "text": [
            "[ 0.  0.  0.  0.  0.  0.  0.  1.  2.  2.  6. 11.  9. 19. 23. 25. 33. 49.\n",
            " 63. 69. 73. 79. 72. 86. 59. 66. 72. 55. 36. 33. 20. 15.  8.  5.  2.  2.\n",
            "  1.  3.  1.  0.  0.  0.  0.  0.  0.]\n"
          ]
        }
      ]
    },
    {
      "cell_type": "code",
      "source": [
        "pit.plot(bins,'.')\n",
        "pit.show()"
      ],
      "metadata": {
        "colab": {
          "base_uri": "https://localhost:8080/",
          "height": 265
        },
        "id": "tM81aOMvbGS9",
        "outputId": "94a2873e-13d5-46a8-ffdc-e8b6725e136c"
      },
      "execution_count": null,
      "outputs": [
        {
          "output_type": "display_data",
          "data": {
            "text/plain": [
              "<Figure size 432x288 with 1 Axes>"
            ],
            "image/png": "[encoded data removed]"
          },
          "metadata": {
            "needs_background": "light"
          }
        }
      ]
    },
    {
      "cell_type": "code",
      "source": [
        "bmis = np.random.normal(22,scale=2,size=1000)\n",
        "print(sum(bmis)/len(bmis)) #bmis의 평균 구하기"
      ],
      "metadata": {
        "colab": {
          "base_uri": "https://localhost:8080/"
        },
        "id": "ByaS0LOwbdCy",
        "outputId": "07f7703f-1672-4eaf-b374-2bf421fbf9d0"
      },
      "execution_count": null,
      "outputs": [
        {
          "output_type": "stream",
          "name": "stdout",
          "text": [
            "22.06582357049956\n"
          ]
        }
      ]
    },
    {
      "cell_type": "code",
      "source": [
        "bins2 = np.zeros(200)\n",
        "for bmi in bmis:\n",
        "  index = int(bmi*10)-120\n",
        "  bins2[index]=bins2[index]+1\n",
        "pit.plot(bins2,'.')\n",
        "pit.show()\n"
      ],
      "metadata": {
        "colab": {
          "base_uri": "https://localhost:8080/",
          "height": 265
        },
        "id": "-55yGAvXcBzD",
        "outputId": "55f52f04-307c-48a9-8893-ac95d26e89d3"
      },
      "execution_count": null,
      "outputs": [
        {
          "output_type": "display_data",
          "data": {
            "text/plain": [
              "<Figure size 432x288 with 1 Axes>"
            ],
            "image/png": "[encoded data removed]"
          },
          "metadata": {
            "needs_background": "light"
          }
        }
      ]
    },
    {
      "cell_type": "code",
      "source": [
        "weights = bmi * heights * heights /10000 #키는 m니까 cm로 변환하면 10000나눠야 함\n",
        "print(sum(weights)/len(weights)) "
      ],
      "metadata": {
        "colab": {
          "base_uri": "https://localhost:8080/"
        },
        "id": "DIiPB4p6cwW7",
        "outputId": "aa24f580-e856-48c9-dee6-f72b2eb50883"
      },
      "execution_count": null,
      "outputs": [
        {
          "output_type": "stream",
          "name": "stdout",
          "text": [
            "58.94711194972881\n"
          ]
        }
      ]
    },
    {
      "cell_type": "code",
      "source": [
        "std_heights = np.std(heights)\n",
        "aver_heights = np.average(heights)\n",
        "print('표준 편차 : ', std_heights)\n",
        "print('평균:',aver_heights)"
      ],
      "metadata": {
        "colab": {
          "base_uri": "https://localhost:8080/"
        },
        "id": "AhT90WtSdUR9",
        "outputId": "96530ba0-e92f-467e-b1c6-aee0608e56c3"
      },
      "execution_count": null,
      "outputs": [
        {
          "output_type": "stream",
          "name": "stdout",
          "text": [
            "표준 편차 :  4.960266179396795\n",
            "평균: 172.45797334047808\n"
          ]
        }
      ]
    },
    {
      "cell_type": "code",
      "source": [
        "heights2 = (heights-aver_heights)/std_heights\n",
        "std_heights2 = np.std(heights2)\n",
        "aver_heights2 = np.average(heights2)\n",
        "print('표준 편차 : ', std_heights2)\n",
        "print('평균:',aver_heights2)"
      ],
      "metadata": {
        "colab": {
          "base_uri": "https://localhost:8080/"
        },
        "id": "zkxyyKjaeWly",
        "outputId": "e66ea428-0982-4b2b-d44a-34ac1d7f6c3f"
      },
      "execution_count": null,
      "outputs": [
        {
          "output_type": "stream",
          "name": "stdout",
          "text": [
            "표준 편차 :  0.9999999999999999\n",
            "평균: 5.38546984785171e-15\n"
          ]
        }
      ]
    },
    {
      "cell_type": "code",
      "source": [
        "pit.hist(heights,bins=50)\n",
        "pit.show()"
      ],
      "metadata": {
        "colab": {
          "base_uri": "https://localhost:8080/",
          "height": 265
        },
        "id": "4YevSKaQfHB_",
        "outputId": "258d34eb-9f40-4990-b891-eeaa43d4fd05"
      },
      "execution_count": null,
      "outputs": [
        {
          "output_type": "display_data",
          "data": {
            "text/plain": [
              "<Figure size 432x288 with 1 Axes>"
            ],
            "image/png": "[encoded data removed]"
          },
          "metadata": {
            "needs_background": "light"
          }
        }
      ]
    },
    {
      "cell_type": "code",
      "source": [
        "pit.hist(bmis,bins=50) #표본의 개수가 커지면 정규분포에 가까워짐\n",
        "pit.show()"
      ],
      "metadata": {
        "colab": {
          "base_uri": "https://localhost:8080/",
          "height": 265
        },
        "id": "0_VLGRazkfQy",
        "outputId": "0696cf1d-a085-445d-9347-9cde2fc46d49"
      },
      "execution_count": null,
      "outputs": [
        {
          "output_type": "display_data",
          "data": {
            "text/plain": [
              "<Figure size 432x288 with 1 Axes>"
            ],
            "image/png": "[encoded data removed]"
          },
          "metadata": {
            "needs_background": "light"
          }
        }
      ]
    },
    {
      "cell_type": "markdown",
      "source": [
        "## 슬라이스"
      ],
      "metadata": {
        "id": "5krFk8FPfxui"
      }
    },
    {
      "cell_type": "code",
      "source": [
        "arr = np.arange(1000)\n",
        "print(arr)"
      ],
      "metadata": {
        "colab": {
          "base_uri": "https://localhost:8080/"
        },
        "id": "CADXdcv4fzYo",
        "outputId": "f7a19fb6-476a-442c-e153-9ebff0e7aa60"
      },
      "execution_count": null,
      "outputs": [
        {
          "output_type": "stream",
          "name": "stdout",
          "text": [
            "[  0   1   2   3   4   5   6   7   8   9  10  11  12  13  14  15  16  17\n",
            "  18  19  20  21  22  23  24  25  26  27  28  29  30  31  32  33  34  35\n",
            "  36  37  38  39  40  41  42  43  44  45  46  47  48  49  50  51  52  53\n",
            "  54  55  56  57  58  59  60  61  62  63  64  65  66  67  68  69  70  71\n",
            "  72  73  74  75  76  77  78  79  80  81  82  83  84  85  86  87  88  89\n",
            "  90  91  92  93  94  95  96  97  98  99 100 101 102 103 104 105 106 107\n",
            " 108 109 110 111 112 113 114 115 116 117 118 119 120 121 122 123 124 125\n",
            " 126 127 128 129 130 131 132 133 134 135 136 137 138 139 140 141 142 143\n",
            " 144 145 146 147 148 149 150 151 152 153 154 155 156 157 158 159 160 161\n",
            " 162 163 164 165 166 167 168 169 170 171 172 173 174 175 176 177 178 179\n",
            " 180 181 182 183 184 185 186 187 188 189 190 191 192 193 194 195 196 197\n",
            " 198 199 200 201 202 203 204 205 206 207 208 209 210 211 212 213 214 215\n",
            " 216 217 218 219 220 221 222 223 224 225 226 227 228 229 230 231 232 233\n",
            " 234 235 236 237 238 239 240 241 242 243 244 245 246 247 248 249 250 251\n",
            " 252 253 254 255 256 257 258 259 260 261 262 263 264 265 266 267 268 269\n",
            " 270 271 272 273 274 275 276 277 278 279 280 281 282 283 284 285 286 287\n",
            " 288 289 290 291 292 293 294 295 296 297 298 299 300 301 302 303 304 305\n",
            " 306 307 308 309 310 311 312 313 314 315 316 317 318 319 320 321 322 323\n",
            " 324 325 326 327 328 329 330 331 332 333 334 335 336 337 338 339 340 341\n",
            " 342 343 344 345 346 347 348 349 350 351 352 353 354 355 356 357 358 359\n",
            " 360 361 362 363 364 365 366 367 368 369 370 371 372 373 374 375 376 377\n",
            " 378 379 380 381 382 383 384 385 386 387 388 389 390 391 392 393 394 395\n",
            " 396 397 398 399 400 401 402 403 404 405 406 407 408 409 410 411 412 413\n",
            " 414 415 416 417 418 419 420 421 422 423 424 425 426 427 428 429 430 431\n",
            " 432 433 434 435 436 437 438 439 440 441 442 443 444 445 446 447 448 449\n",
            " 450 451 452 453 454 455 456 457 458 459 460 461 462 463 464 465 466 467\n",
            " 468 469 470 471 472 473 474 475 476 477 478 479 480 481 482 483 484 485\n",
            " 486 487 488 489 490 491 492 493 494 495 496 497 498 499 500 501 502 503\n",
            " 504 505 506 507 508 509 510 511 512 513 514 515 516 517 518 519 520 521\n",
            " 522 523 524 525 526 527 528 529 530 531 532 533 534 535 536 537 538 539\n",
            " 540 541 542 543 544 545 546 547 548 549 550 551 552 553 554 555 556 557\n",
            " 558 559 560 561 562 563 564 565 566 567 568 569 570 571 572 573 574 575\n",
            " 576 577 578 579 580 581 582 583 584 585 586 587 588 589 590 591 592 593\n",
            " 594 595 596 597 598 599 600 601 602 603 604 605 606 607 608 609 610 611\n",
            " 612 613 614 615 616 617 618 619 620 621 622 623 624 625 626 627 628 629\n",
            " 630 631 632 633 634 635 636 637 638 639 640 641 642 643 644 645 646 647\n",
            " 648 649 650 651 652 653 654 655 656 657 658 659 660 661 662 663 664 665\n",
            " 666 667 668 669 670 671 672 673 674 675 676 677 678 679 680 681 682 683\n",
            " 684 685 686 687 688 689 690 691 692 693 694 695 696 697 698 699 700 701\n",
            " 702 703 704 705 706 707 708 709 710 711 712 713 714 715 716 717 718 719\n",
            " 720 721 722 723 724 725 726 727 728 729 730 731 732 733 734 735 736 737\n",
            " 738 739 740 741 742 743 744 745 746 747 748 749 750 751 752 753 754 755\n",
            " 756 757 758 759 760 761 762 763 764 765 766 767 768 769 770 771 772 773\n",
            " 774 775 776 777 778 779 780 781 782 783 784 785 786 787 788 789 790 791\n",
            " 792 793 794 795 796 797 798 799 800 801 802 803 804 805 806 807 808 809\n",
            " 810 811 812 813 814 815 816 817 818 819 820 821 822 823 824 825 826 827\n",
            " 828 829 830 831 832 833 834 835 836 837 838 839 840 841 842 843 844 845\n",
            " 846 847 848 849 850 851 852 853 854 855 856 857 858 859 860 861 862 863\n",
            " 864 865 866 867 868 869 870 871 872 873 874 875 876 877 878 879 880 881\n",
            " 882 883 884 885 886 887 888 889 890 891 892 893 894 895 896 897 898 899\n",
            " 900 901 902 903 904 905 906 907 908 909 910 911 912 913 914 915 916 917\n",
            " 918 919 920 921 922 923 924 925 926 927 928 929 930 931 932 933 934 935\n",
            " 936 937 938 939 940 941 942 943 944 945 946 947 948 949 950 951 952 953\n",
            " 954 955 956 957 958 959 960 961 962 963 964 965 966 967 968 969 970 971\n",
            " 972 973 974 975 976 977 978 979 980 981 982 983 984 985 986 987 988 989\n",
            " 990 991 992 993 994 995 996 997 998 999]\n"
          ]
        }
      ]
    },
    {
      "cell_type": "code",
      "source": [
        "arr[5:8]"
      ],
      "metadata": {
        "colab": {
          "base_uri": "https://localhost:8080/"
        },
        "id": "1pWXr5d-lHaN",
        "outputId": "182f9823-83fc-4cff-9c4a-303470b13f93"
      },
      "execution_count": null,
      "outputs": [
        {
          "output_type": "execute_result",
          "data": {
            "text/plain": [
              "array([5, 6, 7])"
            ]
          },
          "metadata": {},
          "execution_count": 62
        }
      ]
    },
    {
      "cell_type": "code",
      "source": [
        "arr[-2]"
      ],
      "metadata": {
        "colab": {
          "base_uri": "https://localhost:8080/"
        },
        "id": "rZDKPnznlLdA",
        "outputId": "eebd21d9-da56-4c4e-84bc-22ee27db56a4"
      },
      "execution_count": null,
      "outputs": [
        {
          "output_type": "execute_result",
          "data": {
            "text/plain": [
              "998"
            ]
          },
          "metadata": {},
          "execution_count": 63
        }
      ]
    },
    {
      "cell_type": "code",
      "source": [
        "arr[980:-13]"
      ],
      "metadata": {
        "colab": {
          "base_uri": "https://localhost:8080/"
        },
        "id": "RDcNqxNLlXOG",
        "outputId": "7d34155e-af43-4804-e368-4a315195016e"
      },
      "execution_count": null,
      "outputs": [
        {
          "output_type": "execute_result",
          "data": {
            "text/plain": [
              "array([980, 981, 982, 983, 984, 985, 986])"
            ]
          },
          "metadata": {},
          "execution_count": 64
        }
      ]
    },
    {
      "cell_type": "code",
      "source": [
        "arr[980:]"
      ],
      "metadata": {
        "colab": {
          "base_uri": "https://localhost:8080/"
        },
        "id": "IIguwI-SlbwX",
        "outputId": "12193822-17e3-4e6f-cd1b-1e73b33415cf"
      },
      "execution_count": null,
      "outputs": [
        {
          "output_type": "execute_result",
          "data": {
            "text/plain": [
              "array([980, 981, 982, 983, 984, 985, 986, 987, 988, 989, 990, 991, 992,\n",
              "       993, 994, 995, 996, 997, 998, 999])"
            ]
          },
          "metadata": {},
          "execution_count": 65
        }
      ]
    },
    {
      "cell_type": "code",
      "source": [
        "arr[:5]"
      ],
      "metadata": {
        "colab": {
          "base_uri": "https://localhost:8080/"
        },
        "id": "zdD8LFoHloIa",
        "outputId": "abff1316-7e83-481c-ed70-c67a2f1b33e3"
      },
      "execution_count": null,
      "outputs": [
        {
          "output_type": "execute_result",
          "data": {
            "text/plain": [
              "array([0, 1, 2, 3, 4])"
            ]
          },
          "metadata": {},
          "execution_count": 66
        }
      ]
    },
    {
      "cell_type": "code",
      "source": [
        "arr2 = np.array([[1,2,3],[4,5,6]])\n",
        "print(arr2[0])"
      ],
      "metadata": {
        "colab": {
          "base_uri": "https://localhost:8080/"
        },
        "id": "rI7PKCGElpsL",
        "outputId": "0a72302e-9cb0-4ade-b336-9b43afe84260"
      },
      "execution_count": null,
      "outputs": [
        {
          "output_type": "stream",
          "name": "stdout",
          "text": [
            "[1 2 3]\n"
          ]
        }
      ]
    },
    {
      "cell_type": "code",
      "source": [
        "arr2[0][1]"
      ],
      "metadata": {
        "colab": {
          "base_uri": "https://localhost:8080/"
        },
        "id": "69Po1gBDl3fA",
        "outputId": "7dd1e7f7-c9cb-49cf-edad-2c5cd44990cf"
      },
      "execution_count": null,
      "outputs": [
        {
          "output_type": "execute_result",
          "data": {
            "text/plain": [
              "2"
            ]
          },
          "metadata": {},
          "execution_count": 68
        }
      ]
    },
    {
      "cell_type": "code",
      "source": [
        "arr2[:][1]"
      ],
      "metadata": {
        "colab": {
          "base_uri": "https://localhost:8080/"
        },
        "id": "vI9z_sFTl6nA",
        "outputId": "8fe8d5b4-d493-48c6-da58-6d9bb583aa0d"
      },
      "execution_count": null,
      "outputs": [
        {
          "output_type": "execute_result",
          "data": {
            "text/plain": [
              "array([4, 5, 6])"
            ]
          },
          "metadata": {},
          "execution_count": 69
        }
      ]
    },
    {
      "cell_type": "markdown",
      "source": [
        "## 필터 선택"
      ],
      "metadata": {
        "id": "miU3GQXHmLyP"
      }
    },
    {
      "cell_type": "code",
      "source": [
        "arr = np.array([1,3,2,5,4,8])\n",
        "print(arr)"
      ],
      "metadata": {
        "colab": {
          "base_uri": "https://localhost:8080/"
        },
        "id": "jGo4LYJRmA61",
        "outputId": "59403f98-8956-4460-8a53-4827222a9616"
      },
      "execution_count": null,
      "outputs": [
        {
          "output_type": "stream",
          "name": "stdout",
          "text": [
            "[1 3 2 5 4 8]\n"
          ]
        }
      ]
    },
    {
      "cell_type": "code",
      "source": [
        "filter = arr%2==0\n",
        "print(filter)"
      ],
      "metadata": {
        "colab": {
          "base_uri": "https://localhost:8080/"
        },
        "id": "HvFUfVpKmTiu",
        "outputId": "554c96e4-a2d7-4a9b-ac69-1718d3b3a84b"
      },
      "execution_count": null,
      "outputs": [
        {
          "output_type": "stream",
          "name": "stdout",
          "text": [
            "[False False  True False  True  True]\n"
          ]
        }
      ]
    },
    {
      "cell_type": "code",
      "source": [
        "even_arr = arr[filter]\n",
        "even_arr"
      ],
      "metadata": {
        "colab": {
          "base_uri": "https://localhost:8080/"
        },
        "id": "-Pp37d-smV4F",
        "outputId": "64a97ced-5788-4af2-e26a-7350f80f81bb"
      },
      "execution_count": null,
      "outputs": [
        {
          "output_type": "execute_result",
          "data": {
            "text/plain": [
              "array([2, 4, 8])"
            ]
          },
          "metadata": {},
          "execution_count": 72
        }
      ]
    },
    {
      "cell_type": "markdown",
      "source": [
        "## 구조 변경"
      ],
      "metadata": {
        "id": "RRRi6Xpxm8Vm"
      }
    },
    {
      "cell_type": "code",
      "source": [
        "arr = np.arange(7*2*5)\n",
        "print(arr)\n"
      ],
      "metadata": {
        "colab": {
          "base_uri": "https://localhost:8080/"
        },
        "id": "qYqv90iHmgaB",
        "outputId": "c014f943-ac43-409b-9bb1-80cd1f9fc1bf"
      },
      "execution_count": null,
      "outputs": [
        {
          "output_type": "stream",
          "name": "stdout",
          "text": [
            "[ 0  1  2  3  4  5  6  7  8  9 10 11 12 13 14 15 16 17 18 19 20 21 22 23\n",
            " 24 25 26 27 28 29 30 31 32 33 34 35 36 37 38 39 40 41 42 43 44 45 46 47\n",
            " 48 49 50 51 52 53 54 55 56 57 58 59 60 61 62 63 64 65 66 67 68 69]\n"
          ]
        }
      ]
    },
    {
      "cell_type": "code",
      "source": [
        "print(arr.shape)"
      ],
      "metadata": {
        "colab": {
          "base_uri": "https://localhost:8080/"
        },
        "id": "31ZOCE2snGwZ",
        "outputId": "8299b458-25e4-46cc-8a6c-c57f07743315"
      },
      "execution_count": null,
      "outputs": [
        {
          "output_type": "stream",
          "name": "stdout",
          "text": [
            "(70,)\n"
          ]
        }
      ]
    },
    {
      "cell_type": "code",
      "source": [
        "arr2 = arr.reshape((7,-1)) \n",
        "# 구조 바꾸기 7 * ? 형태로 하고 싶으면 알아서 10으로 넣어서 계산해줌(70개니까 개수가)\n",
        "# 남은 배열의 길이를 알아서 지정해줌\n",
        "print(arr2.shape)"
      ],
      "metadata": {
        "colab": {
          "base_uri": "https://localhost:8080/"
        },
        "id": "zlQX7rjgnMHY",
        "outputId": "7da444f6-51eb-4fd5-d40a-4646d0a06b1b"
      },
      "execution_count": null,
      "outputs": [
        {
          "output_type": "stream",
          "name": "stdout",
          "text": [
            "(7, 10)\n"
          ]
        }
      ]
    },
    {
      "cell_type": "code",
      "source": [
        "print(arr2)"
      ],
      "metadata": {
        "colab": {
          "base_uri": "https://localhost:8080/"
        },
        "id": "2bZu9fEknTNR",
        "outputId": "9880a3cc-1165-41c9-ba6e-70bec3346971"
      },
      "execution_count": null,
      "outputs": [
        {
          "output_type": "stream",
          "name": "stdout",
          "text": [
            "[[ 0  1  2  3  4  5  6  7  8  9]\n",
            " [10 11 12 13 14 15 16 17 18 19]\n",
            " [20 21 22 23 24 25 26 27 28 29]\n",
            " [30 31 32 33 34 35 36 37 38 39]\n",
            " [40 41 42 43 44 45 46 47 48 49]\n",
            " [50 51 52 53 54 55 56 57 58 59]\n",
            " [60 61 62 63 64 65 66 67 68 69]]\n"
          ]
        }
      ]
    },
    {
      "cell_type": "code",
      "source": [
        "arr3 = arr.reshape((7,-1,5)) # 7*5 형태 이니까 -1 자리에 알아서 2로 계산해서 처리함\n",
        "print(arr3.shape)\n",
        "print(arr3)"
      ],
      "metadata": {
        "colab": {
          "base_uri": "https://localhost:8080/"
        },
        "id": "ax5AJ1Arnarx",
        "outputId": "54c62fbe-f8f1-47bc-94af-8d5a65394af7"
      },
      "execution_count": null,
      "outputs": [
        {
          "output_type": "stream",
          "name": "stdout",
          "text": [
            "(7, 2, 5)\n",
            "[[[ 0  1  2  3  4]\n",
            "  [ 5  6  7  8  9]]\n",
            "\n",
            " [[10 11 12 13 14]\n",
            "  [15 16 17 18 19]]\n",
            "\n",
            " [[20 21 22 23 24]\n",
            "  [25 26 27 28 29]]\n",
            "\n",
            " [[30 31 32 33 34]\n",
            "  [35 36 37 38 39]]\n",
            "\n",
            " [[40 41 42 43 44]\n",
            "  [45 46 47 48 49]]\n",
            "\n",
            " [[50 51 52 53 54]\n",
            "  [55 56 57 58 59]]\n",
            "\n",
            " [[60 61 62 63 64]\n",
            "  [65 66 67 68 69]]]\n"
          ]
        }
      ]
    },
    {
      "cell_type": "code",
      "source": [
        "# arr3 = arr.reshape((7,-1,6)) 원하는 구조로 만들지 못할 때 valueError 발생"
      ],
      "metadata": {
        "id": "xlJlx7x0npQJ"
      },
      "execution_count": null,
      "outputs": []
    },
    {
      "cell_type": "markdown",
      "source": [
        "## 전치"
      ],
      "metadata": {
        "id": "4lmz2Opzpewt"
      }
    },
    {
      "cell_type": "code",
      "source": [
        "arr = np.array([[1,2,3],[4,5,6]])\n",
        "print(arr)"
      ],
      "metadata": {
        "colab": {
          "base_uri": "https://localhost:8080/"
        },
        "id": "ow26NGkzpTDC",
        "outputId": "79e1870f-310d-429f-b9c9-2c7fbfe1cbe2"
      },
      "execution_count": null,
      "outputs": [
        {
          "output_type": "stream",
          "name": "stdout",
          "text": [
            "[[1 2 3]\n",
            " [4 5 6]]\n"
          ]
        }
      ]
    },
    {
      "cell_type": "code",
      "source": [
        "arr2 = arr.T #전치행렬 (행과 열 바꿈)\n",
        "print(arr2)"
      ],
      "metadata": {
        "colab": {
          "base_uri": "https://localhost:8080/"
        },
        "id": "3UPf-k9jpkFQ",
        "outputId": "aa3ea6be-e264-47a3-b5b9-55cf3181aea3"
      },
      "execution_count": null,
      "outputs": [
        {
          "output_type": "stream",
          "name": "stdout",
          "text": [
            "[[1 4]\n",
            " [2 5]\n",
            " [3 6]]\n"
          ]
        }
      ]
    },
    {
      "cell_type": "code",
      "source": [
        "arr3 = arr.transpose() # T = transpose\n",
        "print(arr3)"
      ],
      "metadata": {
        "colab": {
          "base_uri": "https://localhost:8080/"
        },
        "id": "nWeOmZuhppye",
        "outputId": "e29f0101-443c-4b98-8e18-689ddbcaa4d6"
      },
      "execution_count": null,
      "outputs": [
        {
          "output_type": "stream",
          "name": "stdout",
          "text": [
            "[[1 4]\n",
            " [2 5]\n",
            " [3 6]]\n"
          ]
        }
      ]
    },
    {
      "cell_type": "markdown",
      "source": [
        "## 자잘한 함수"
      ],
      "metadata": {
        "id": "qO715n1wqY2l"
      }
    },
    {
      "cell_type": "code",
      "source": [
        "arr = np.random.randint(0,100,5) # 0~100 중 random하게 5개 정수 만들어라\n",
        "print(arr)"
      ],
      "metadata": {
        "colab": {
          "base_uri": "https://localhost:8080/"
        },
        "id": "Ou-2dal9qOyl",
        "outputId": "86491a8e-892e-42a9-c3b0-f5684e8903de"
      },
      "execution_count": null,
      "outputs": [
        {
          "output_type": "stream",
          "name": "stdout",
          "text": [
            "[ 0 11  8 47 95]\n"
          ]
        }
      ]
    },
    {
      "cell_type": "code",
      "source": [
        "arr2 = np.sqrt(arr)\n",
        "print(arr2)"
      ],
      "metadata": {
        "colab": {
          "base_uri": "https://localhost:8080/"
        },
        "id": "1rnaeXceqdMO",
        "outputId": "513ad5db-2f72-432b-95fe-188bd4f71677"
      },
      "execution_count": null,
      "outputs": [
        {
          "output_type": "stream",
          "name": "stdout",
          "text": [
            "[0.         3.31662479 2.82842712 6.8556546  9.74679434]\n"
          ]
        }
      ]
    },
    {
      "cell_type": "code",
      "source": [
        "arr3 = np.random.randint(0,100,5) # 0~100 중 random하게 5개 정수 만들어라\n",
        "print(arr3)"
      ],
      "metadata": {
        "colab": {
          "base_uri": "https://localhost:8080/"
        },
        "id": "-mbjZvuNq3uM",
        "outputId": "043dd857-0500-4e67-ac28-af8e7b9e10b3"
      },
      "execution_count": null,
      "outputs": [
        {
          "output_type": "stream",
          "name": "stdout",
          "text": [
            "[15 18 56 14 76]\n"
          ]
        }
      ]
    },
    {
      "cell_type": "code",
      "source": [
        "arr4 = np.maximum(arr,arr3) # arr arr3을 각각 비교해서 큰값 추출\n",
        "print(arr4)"
      ],
      "metadata": {
        "colab": {
          "base_uri": "https://localhost:8080/"
        },
        "id": "_eDbRo46rAFv",
        "outputId": "baeda924-9f5c-4868-c1d5-b84727267598"
      },
      "execution_count": null,
      "outputs": [
        {
          "output_type": "stream",
          "name": "stdout",
          "text": [
            "[15 18 56 47 95]\n"
          ]
        }
      ]
    },
    {
      "cell_type": "markdown",
      "source": [
        "정규분포 맛보기(numpy아님)\n",
        "\n",
        "누적 정규분포 수식\n",
        "![image.png](data:image/png;base64,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)"
      ],
      "metadata": {
        "id": "Vx9pBv-0_qMn"
      }
    },
    {
      "cell_type": "markdown",
      "source": [
        "![image.png](data:image/png;base64,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)"
      ],
      "metadata": {
        "id": "vtMlzocs_zcX"
      }
    },
    {
      "cell_type": "code",
      "source": [
        "import math\n",
        "SQRT_TWO_PI = math.sqrt(2*math.pi) #루트 2파이\n",
        "def normal_pdf(x,mu=0,sigma=1): #정규분포(mu:평균 , sigma: 표준편차)\n",
        "  pre = 1/(sigma*SQRT_TWO_PI)\n",
        "  post = math.exp(-(x-mu)**2)/(2*(sigma**2))\n",
        "  return pre*post"
      ],
      "metadata": {
        "id": "vPsymlUZrMDi"
      },
      "execution_count": null,
      "outputs": []
    },
    {
      "cell_type": "code",
      "source": [
        "xs = [x/10.0 for x in range(-50,50)] # -5에서 5까지 step 0.1로 증가하는 리스트 구성\n",
        "ys1 = [normal_pdf(x) for x in xs] #표준 정규 분포\n",
        "ys2 = [normal_pdf(x,mu=1) for x in xs] # 정규 분포, 평균 : 1 표준편차 : 1\n",
        "ys3 = [normal_pdf(x,sigma=2) for x in xs] # 정규 분포, 평균 :0 표준편차 : 2\n",
        "ys4 = [normal_pdf(x,sigma=0.5) for x in xs] # 정규 분포 평균 : 0 표준편차 : 0.5\n",
        "\n",
        "pit.plot(xs,ys1,'-',label='mu=0,sigma=1')\n",
        "pit.plot(xs,ys2,'-',label='mu=1,sigma=1')\n",
        "pit.plot(xs,ys3,'-',label='mu=0,sigma=2')\n",
        "pit.plot(xs,ys4,'-',label='mu=0,sigma=0.5')"
      ],
      "metadata": {
        "colab": {
          "base_uri": "https://localhost:8080/",
          "height": 283
        },
        "id": "c2YnQNxAAtY5",
        "outputId": "744f564a-9cd3-4a2a-e7a9-0ef84331b59c"
      },
      "execution_count": null,
      "outputs": [
        {
          "output_type": "execute_result",
          "data": {
            "text/plain": [
              "[<matplotlib.lines.Line2D at 0x7fd245cef610>]"
            ]
          },
          "metadata": {},
          "execution_count": 87
        },
        {
          "output_type": "display_data",
          "data": {
            "text/plain": [
              "<Figure size 432x288 with 1 Axes>"
            ],
            "image/png": "[encoded data removed]"
          },
          "metadata": {
            "needs_background": "light"
          }
        }
      ]
    },
    {
      "cell_type": "code",
      "source": [
        "import random\n",
        "def bernoulli_trial(p):\n",
        "  return 1 if random.random()<p else 0"
      ],
      "metadata": {
        "id": "y-9iA_K5Bs68"
      },
      "execution_count": null,
      "outputs": []
    },
    {
      "cell_type": "code",
      "source": [
        "dc_ts =[] # 주사위 던지기\n",
        "for _ in range(100):\n",
        "  dc_ts.append(bernoulli_trial(1/6))\n",
        "print(dc_ts)\n",
        "print(sum(dc_ts))"
      ],
      "metadata": {
        "colab": {
          "base_uri": "https://localhost:8080/"
        },
        "id": "jjMVT4D7DK95",
        "outputId": "7db91c86-6b03-455d-fe4a-dd5a8ff8c1f5"
      },
      "execution_count": null,
      "outputs": [
        {
          "output_type": "stream",
          "name": "stdout",
          "text": [
            "[0, 0, 0, 0, 1, 1, 0, 0, 0, 0, 0, 0, 0, 0, 0, 1, 0, 0, 0, 0, 0, 0, 0, 0, 0, 0, 0, 0, 1, 0, 1, 1, 0, 0, 0, 0, 0, 0, 0, 0, 0, 0, 0, 0, 1, 0, 1, 0, 0, 0, 1, 0, 0, 0, 0, 0, 0, 0, 0, 0, 0, 0, 0, 0, 0, 0, 0, 0, 1, 0, 0, 0, 0, 0, 0, 0, 0, 0, 1, 0, 0, 0, 0, 0, 0, 0, 0, 1, 0, 0, 0, 0, 0, 0, 0, 0, 0, 0, 0, 0]\n",
            "12\n"
          ]
        }
      ]
    },
    {
      "cell_type": "code",
      "source": [
        "def draw_dice(n,p): # n: 시도한 횟수 p: 나올 확률\n",
        "  return sum(bernoulli_trial(1/6) for _ in range(n))"
      ],
      "metadata": {
        "id": "y5S9YSblD5CN"
      },
      "execution_count": null,
      "outputs": []
    },
    {
      "cell_type": "code",
      "source": [
        "print(draw_dice(1000,1/6))"
      ],
      "metadata": {
        "colab": {
          "base_uri": "https://localhost:8080/"
        },
        "id": "NWG0QS4NEXe2",
        "outputId": "3202aa00-76d5-4144-c68b-f7d2a823077f"
      },
      "execution_count": null,
      "outputs": [
        {
          "output_type": "stream",
          "name": "stdout",
          "text": [
            "164\n"
          ]
        }
      ]
    },
    {
      "cell_type": "code",
      "source": [
        "for _ in range(100):\n",
        "  print(draw_dice(1000,1/6),end=' ')"
      ],
      "metadata": {
        "colab": {
          "base_uri": "https://localhost:8080/"
        },
        "id": "-xxe5wODEazI",
        "outputId": "4413a565-b9c0-43c8-8af5-54ab274719ce"
      },
      "execution_count": null,
      "outputs": [
        {
          "output_type": "stream",
          "name": "stdout",
          "text": [
            "165 166 161 163 168 188 176 183 181 151 159 170 153 149 159 143 179 165 163 154 160 192 147 184 179 168 164 150 169 173 162 166 171 159 170 191 180 160 163 157 162 200 184 150 174 185 183 165 195 177 171 164 170 167 170 139 152 175 156 177 197 189 165 183 170 165 164 172 170 180 166 150 177 179 160 163 177 157 164 171 162 164 183 167 174 168 172 178 163 188 152 169 193 155 166 151 164 182 153 163 "
          ]
        }
      ]
    },
    {
      "cell_type": "code",
      "source": [
        "from collections import Counter"
      ],
      "metadata": {
        "id": "Y492mWk5EuHN"
      },
      "execution_count": null,
      "outputs": []
    },
    {
      "cell_type": "code",
      "source": [
        "sample_data = [1,2,3,2,1,2,1,2,3,4,2,2,1,2,3,2]\n",
        "h = Counter(sample_data)  # 해당 숫자 개수가 몇개인지 세어 주는 것\n",
        "print(h)"
      ],
      "metadata": {
        "colab": {
          "base_uri": "https://localhost:8080/"
        },
        "id": "v2tbn-W3FlHY",
        "outputId": "92f17f3a-9f6f-4847-fd1f-011568cfc59b"
      },
      "execution_count": null,
      "outputs": [
        {
          "output_type": "stream",
          "name": "stdout",
          "text": [
            "Counter({2: 8, 1: 4, 3: 3, 4: 1})\n"
          ]
        }
      ]
    },
    {
      "cell_type": "code",
      "source": [
        "def binominal_hist(p,n,nps): #p:확률 n:시도 횟수 nps: (p,n)을 시도할 횟수 즉 130번째 자체를 함수로 만들겠다는 것\n",
        "  data = [draw_dice(n,p) for _ in range(nps)]\n",
        "  histogram = Counter(data)\n",
        "  mu = p*n  #p*n: 기댓값 즉 평균\n",
        "  sigma = math.sqrt(n*p*(1-p)) # sqrt(n*p*(1-p)) : 표준편차 , 시그마\n",
        "  xs = range(min(data),max(data)+1)\n",
        "  ys = [normal_pdf(i,mu,sigma) for i in xs]\n",
        "  pit.bar(histogram.keys(),[v/nps for v in histogram.values()])\n",
        "  pit.plot(xs,ys,color='r')\n",
        "  pit.show()"
      ],
      "metadata": {
        "id": "UT_bQRbsFAQt"
      },
      "execution_count": null,
      "outputs": []
    },
    {
      "cell_type": "code",
      "source": [
        "binominal_hist(1/6,100,500) # 1/6확률(주사위 던지기) 500번 시행, 100번 기록 //  횟수가 많을수록 정규분포에 가까워짐"
      ],
      "metadata": {
        "colab": {
          "base_uri": "https://localhost:8080/",
          "height": 266
        },
        "id": "4uV4x6yWFJ0-",
        "outputId": "7bab3c39-145e-4a09-a143-51a492513dd4"
      },
      "execution_count": null,
      "outputs": [
        {
          "output_type": "display_data",
          "data": {
            "text/plain": [
              "<Figure size 432x288 with 1 Axes>"
            ],
            "image/png": "[encoded data removed]"
          },
          "metadata": {
            "needs_background": "light"
          }
        }
      ]
    },
    {
      "cell_type": "markdown",
      "source": [
        "## Numpy 활용 예 - 영상처리"
      ],
      "metadata": {
        "id": "mjJOrQHjLxF0"
      }
    },
    {
      "cell_type": "code",
      "source": [
        "import cv2 # OpenCV 라이브러리\n",
        "from google.colab.patches import cv2_imshow # colab에서 시각화를 위해 필요한 구문\n"
      ],
      "metadata": {
        "id": "cIUbOwSyHVsl"
      },
      "execution_count": null,
      "outputs": []
    },
    {
      "cell_type": "code",
      "source": [
        "path = '/content/drive/MyDrive/image/KakaoTalk_20220509_140127238.jpg'\n",
        "image = cv2.imread(path,cv2.IMREAD_COLOR)\n",
        "cv2_imshow(image)"
      ],
      "metadata": {
        "id": "FWRNbQ22Mlk3",
        "colab": {
          "base_uri": "https://localhost:8080/",
          "height": 737
        },
        "outputId": "f00670fe-8078-46ed-b48e-022e626cd9c5"
      },
      "execution_count": null,
      "outputs": [
        {
          "output_type": "display_data",
          "data": {
            "text/plain": [
              "<PIL.Image.Image image mode=RGB size=495x720 at 0x7FD2467DBB50>"
            ],
            "image/png": "[encoded data removed]"
          },
          "metadata": {}
        }
      ]
    },
    {
      "cell_type": "code",
      "source": [
        "print(image.ndim)"
      ],
      "metadata": {
        "id": "RA53PS28N0mj",
        "colab": {
          "base_uri": "https://localhost:8080/"
        },
        "outputId": "865dab58-81a8-4833-97da-6a0f75aeb078"
      },
      "execution_count": null,
      "outputs": [
        {
          "output_type": "stream",
          "name": "stdout",
          "text": [
            "3\n"
          ]
        }
      ]
    },
    {
      "cell_type": "code",
      "source": [
        "print(image.ndim)"
      ],
      "metadata": {
        "id": "gYyb8hTyNuir",
        "colab": {
          "base_uri": "https://localhost:8080/"
        },
        "outputId": "4a07b78a-c7cc-4047-968d-d2cc78a89218"
      },
      "execution_count": null,
      "outputs": [
        {
          "output_type": "stream",
          "name": "stdout",
          "text": [
            "3\n"
          ]
        }
      ]
    },
    {
      "cell_type": "code",
      "source": [
        "print(image.shape)"
      ],
      "metadata": {
        "id": "ytslK_eKNxDy",
        "colab": {
          "base_uri": "https://localhost:8080/"
        },
        "outputId": "551eaceb-b443-43e7-d187-d3ef9fd38bef"
      },
      "execution_count": null,
      "outputs": [
        {
          "output_type": "stream",
          "name": "stdout",
          "text": [
            "(720, 495, 3)\n"
          ]
        }
      ]
    },
    {
      "cell_type": "code",
      "source": [
        "image = np.zeros((28,28,3),np.uint8)        # uninsigned 8bit\n",
        "cv2_imshow(image)"
      ],
      "metadata": {
        "id": "hn0TxhtwN2bT",
        "colab": {
          "base_uri": "https://localhost:8080/",
          "height": 45
        },
        "outputId": "a6f56f61-ae73-4727-ae64-8b7e39b36445"
      },
      "execution_count": null,
      "outputs": [
        {
          "output_type": "display_data",
          "data": {
            "text/plain": [
              "<PIL.Image.Image image mode=RGB size=28x28 at 0x7FD23C12F790>"
            ],
            "image/png": "[encoded data removed]"
          },
          "metadata": {}
        }
      ]
    },
    {
      "cell_type": "code",
      "source": [
        "image[:,:,0] = 255\n",
        "cv2_imshow(image)"
      ],
      "metadata": {
        "id": "049YSjcOOTh7",
        "colab": {
          "base_uri": "https://localhost:8080/",
          "height": 45
        },
        "outputId": "0c3b0624-bf14-4993-f760-9ffae73c735e"
      },
      "execution_count": null,
      "outputs": [
        {
          "output_type": "display_data",
          "data": {
            "text/plain": [
              "<PIL.Image.Image image mode=RGB size=28x28 at 0x7FD23C12FF50>"
            ],
            "image/png": "[encoded data removed]"
          },
          "metadata": {}
        }
      ]
    },
    {
      "cell_type": "code",
      "source": [
        "from tensorflow import keras"
      ],
      "metadata": {
        "id": "oxEXrxKsO_gq"
      },
      "execution_count": null,
      "outputs": []
    },
    {
      "cell_type": "code",
      "source": [
        "data = keras.datasets.mnist.load_data()"
      ],
      "metadata": {
        "id": "srh-2OOfPDPa",
        "colab": {
          "base_uri": "https://localhost:8080/"
        },
        "outputId": "8395163f-bdc5-4138-fdb4-e01c61e30a0a"
      },
      "execution_count": null,
      "outputs": [
        {
          "output_type": "stream",
          "name": "stdout",
          "text": [
            "Downloading data from https://storage.googleapis.com/tensorflow/tf-keras-datasets/mnist.npz\n",
            "11493376/11490434 [==============================] - 0s 0us/step\n",
            "11501568/11490434 [==============================] - 0s 0us/step\n"
          ]
        }
      ]
    },
    {
      "cell_type": "code",
      "source": [
        "print(type(data))\n",
        "print(len(data))"
      ],
      "metadata": {
        "colab": {
          "base_uri": "https://localhost:8080/"
        },
        "id": "zEfR2lWjPhZS",
        "outputId": "e289ca0e-56d4-4b12-b1ed-25b87b4be8bb"
      },
      "execution_count": null,
      "outputs": [
        {
          "output_type": "stream",
          "name": "stdout",
          "text": [
            "<class 'tuple'>\n",
            "2\n"
          ]
        }
      ]
    },
    {
      "cell_type": "code",
      "source": [
        "train_data, test_data = data\n",
        "print(type(train_data))\n",
        "print(len(train_data))\n",
        "print(type(test_data))\n",
        "print(len(test_data))"
      ],
      "metadata": {
        "colab": {
          "base_uri": "https://localhost:8080/"
        },
        "id": "7uBVq90gPsNi",
        "outputId": "a5a08e95-f57f-442e-9f95-d4fbf55df1e0"
      },
      "execution_count": null,
      "outputs": [
        {
          "output_type": "stream",
          "name": "stdout",
          "text": [
            "<class 'tuple'>\n",
            "2\n",
            "<class 'tuple'>\n",
            "2\n"
          ]
        }
      ]
    },
    {
      "cell_type": "code",
      "source": [
        "x_train, y_train = train_data\n",
        "x_test, y_test = test_data\n",
        "print(type(x_train),type(y_train))\n",
        "print(type(x_test), type(y_test))"
      ],
      "metadata": {
        "colab": {
          "base_uri": "https://localhost:8080/"
        },
        "id": "Qi20WXdAP0Zx",
        "outputId": "e33d015d-e108-444b-a846-c3143c0cec8e"
      },
      "execution_count": null,
      "outputs": [
        {
          "output_type": "stream",
          "name": "stdout",
          "text": [
            "<class 'numpy.ndarray'> <class 'numpy.ndarray'>\n",
            "<class 'numpy.ndarray'> <class 'numpy.ndarray'>\n"
          ]
        }
      ]
    },
    {
      "cell_type": "code",
      "source": [
        "print(x_train.shape, y_train.shape)\n",
        "print(x_test.shape, y_test.shape)"
      ],
      "metadata": {
        "colab": {
          "base_uri": "https://localhost:8080/"
        },
        "id": "AXignf9iQLZB",
        "outputId": "afaf7603-0c6f-4f3d-a721-8983dfc5e940"
      },
      "execution_count": null,
      "outputs": [
        {
          "output_type": "stream",
          "name": "stdout",
          "text": [
            "(60000, 28, 28) (60000,)\n",
            "(10000, 28, 28) (10000,)\n"
          ]
        }
      ]
    },
    {
      "cell_type": "code",
      "source": [
        "for i in range(10):\n",
        "  image = x_train[i]\n",
        "  print(y_train[i])\n",
        "  cv2_imshow(image)"
      ],
      "metadata": {
        "colab": {
          "base_uri": "https://localhost:8080/",
          "height": 481
        },
        "id": "JFPXmfgKQQ6J",
        "outputId": "46aa7e65-c080-4991-cc6e-dd82013eacdf"
      },
      "execution_count": null,
      "outputs": [
        {
          "output_type": "stream",
          "name": "stdout",
          "text": [
            "5\n"
          ]
        },
        {
          "output_type": "display_data",
          "data": {
            "text/plain": [
              "<PIL.Image.Image image mode=L size=28x28 at 0x7FD1C4CAAF50>"
            ],
            "image/png": "[encoded data removed]"
          },
          "metadata": {}
        },
        {
          "output_type": "stream",
          "name": "stdout",
          "text": [
            "0\n"
          ]
        },
        {
          "output_type": "display_data",
          "data": {
            "text/plain": [
              "<PIL.Image.Image image mode=L size=28x28 at 0x7FD1C4CAA9D0>"
            ],
            "image/png": "[encoded data removed]"
          },
          "metadata": {}
        },
        {
          "output_type": "stream",
          "name": "stdout",
          "text": [
            "4\n"
          ]
        },
        {
          "output_type": "display_data",
          "data": {
            "text/plain": [
              "<PIL.Image.Image image mode=L size=28x28 at 0x7FD1C4CAAD50>"
            ],
            "image/png": "[encoded data removed]"
          },
          "metadata": {}
        },
        {
          "output_type": "stream",
          "name": "stdout",
          "text": [
            "1\n"
          ]
        },
        {
          "output_type": "display_data",
          "data": {
            "text/plain": [
              "<PIL.Image.Image image mode=L size=28x28 at 0x7FD1C4CB48D0>"
            ],
            "image/png": "[encoded data removed]"
          },
          "metadata": {}
        },
        {
          "output_type": "stream",
          "name": "stdout",
          "text": [
            "9\n"
          ]
        },
        {
          "output_type": "display_data",
          "data": {
            "text/plain": [
              "<PIL.Image.Image image mode=L size=28x28 at 0x7FD1C4CB4650>"
            ],
            "image/png": "[encoded data removed]"
          },
          "metadata": {}
        },
        {
          "output_type": "stream",
          "name": "stdout",
          "text": [
            "2\n"
          ]
        },
        {
          "output_type": "display_data",
          "data": {
            "text/plain": [
              "<PIL.Image.Image image mode=L size=28x28 at 0x7FD1C4CB4F50>"
            ],
            "image/png": "[encoded data removed]"
          },
          "metadata": {}
        },
        {
          "output_type": "stream",
          "name": "stdout",
          "text": [
            "1\n"
          ]
        },
        {
          "output_type": "display_data",
          "data": {
            "text/plain": [
              "<PIL.Image.Image image mode=L size=28x28 at 0x7FD1C4CB4950>"
            ],
            "image/png": "[encoded data removed]"
          },
          "metadata": {}
        },
        {
          "output_type": "stream",
          "name": "stdout",
          "text": [
            "3\n"
          ]
        },
        {
          "output_type": "display_data",
          "data": {
            "text/plain": [
              "<PIL.Image.Image image mode=L size=28x28 at 0x7FD1C4CB4D10>"
            ],
            "image/png": "[encoded data removed]"
          },
          "metadata": {}
        },
        {
          "output_type": "stream",
          "name": "stdout",
          "text": [
            "1\n"
          ]
        },
        {
          "output_type": "display_data",
          "data": {
            "text/plain": [
              "<PIL.Image.Image image mode=L size=28x28 at 0x7FD1C4CB4F90>"
            ],
            "image/png": "[encoded data removed]"
          },
          "metadata": {}
        },
        {
          "output_type": "stream",
          "name": "stdout",
          "text": [
            "4\n"
          ]
        },
        {
          "output_type": "display_data",
          "data": {
            "text/plain": [
              "<PIL.Image.Image image mode=L size=28x28 at 0x7FD1C4CB4810>"
            ],
            "image/png": "[encoded data removed]"
          },
          "metadata": {}
        }
      ]
    },
    {
      "cell_type": "markdown",
      "source": [
        "통계"
      ],
      "metadata": {
        "id": "41Ia1enoSIHK"
      }
    },
    {
      "cell_type": "code",
      "source": [
        "arr = np.random.randint(5,100,20)\n",
        "print(arr)"
      ],
      "metadata": {
        "colab": {
          "base_uri": "https://localhost:8080/"
        },
        "id": "z7OEQcHrSHpR",
        "outputId": "5d6ba7f7-568b-435d-a786-e25e5f25a8fe"
      },
      "execution_count": null,
      "outputs": [
        {
          "output_type": "stream",
          "name": "stdout",
          "text": [
            "[44 40 35 78 13 81 51 87 13 18 66 17  8 31 56 71 95 11  7 70]\n"
          ]
        }
      ]
    },
    {
      "cell_type": "code",
      "source": [
        "arr2 = arr.reshape(4,-1)\n",
        "print(arr2)"
      ],
      "metadata": {
        "colab": {
          "base_uri": "https://localhost:8080/"
        },
        "id": "1LmFvf_xSNRg",
        "outputId": "e2c2026f-881b-4a7d-dde0-11c8109d9a6d"
      },
      "execution_count": null,
      "outputs": [
        {
          "output_type": "stream",
          "name": "stdout",
          "text": [
            "[[44 40 35 78 13]\n",
            " [81 51 87 13 18]\n",
            " [66 17  8 31 56]\n",
            " [71 95 11  7 70]]\n"
          ]
        }
      ]
    },
    {
      "cell_type": "code",
      "source": [
        "print('평균:', arr2.mean())"
      ],
      "metadata": {
        "colab": {
          "base_uri": "https://localhost:8080/"
        },
        "id": "JOVi8YJ-ShXs",
        "outputId": "4f4772fb-5eb4-4b3f-f8a1-f1d7f5bf2d0e"
      },
      "execution_count": null,
      "outputs": [
        {
          "output_type": "stream",
          "name": "stdout",
          "text": [
            "평균: 44.6\n"
          ]
        }
      ]
    },
    {
      "cell_type": "code",
      "source": [
        "print('평균(축1):',arr2.mean(axis=1)) # 컬럼 축\n",
        "print('평균(축0):',arr2.mean(axis=0)) # 로우 축"
      ],
      "metadata": {
        "colab": {
          "base_uri": "https://localhost:8080/"
        },
        "id": "aSV0aEkDSkct",
        "outputId": "680061f2-2d70-485e-c5f8-db2f56d499b4"
      },
      "execution_count": null,
      "outputs": [
        {
          "output_type": "stream",
          "name": "stdout",
          "text": [
            "평균(축1): [42.  50.  35.6 50.8]\n",
            "평균(축0): [65.5  50.75 35.25 32.25 39.25]\n"
          ]
        }
      ]
    },
    {
      "cell_type": "code",
      "source": [
        "print('합계:',arr2.sum())\n",
        "print('합계(축1):',arr2.sum(axis=1)) # 컬럼 축\n",
        "print('합계(축0):',arr2.sum(axis=0)) # 로우 축\n"
      ],
      "metadata": {
        "colab": {
          "base_uri": "https://localhost:8080/"
        },
        "id": "zxAXv8TPSvPo",
        "outputId": "3391f6c0-b698-430f-9625-f760a8d03fcc"
      },
      "execution_count": null,
      "outputs": [
        {
          "output_type": "stream",
          "name": "stdout",
          "text": [
            "합계: 892\n",
            "합계(축1): [210 250 178 254]\n",
            "합계(축0): [262 203 141 129 157]\n"
          ]
        }
      ]
    },
    {
      "cell_type": "code",
      "source": [
        "print('표준편차:',arr2.std())\n",
        "print('분산:',arr2.var())\n",
        "print('최솟값:',arr2.min())\n",
        "print('최댓값:',arr2.max())"
      ],
      "metadata": {
        "colab": {
          "base_uri": "https://localhost:8080/"
        },
        "id": "A5W7h9ebTUUd",
        "outputId": "bcc388ec-0f36-4c0f-f50a-04b2f27d0106"
      },
      "execution_count": null,
      "outputs": [
        {
          "output_type": "stream",
          "name": "stdout",
          "text": [
            "표준편차: 28.63284826907725\n",
            "분산: 819.8400000000001\n",
            "최솟값: 7\n",
            "최댓값: 95\n"
          ]
        }
      ]
    },
    {
      "cell_type": "code",
      "source": [
        "arr = np.array([1,3,2,4,58,5,-2,3])\n",
        "print('최댓값 인덱스:',arr.argmax())\n",
        "print('최솟값 인덱스:', arr.argmin())"
      ],
      "metadata": {
        "colab": {
          "base_uri": "https://localhost:8080/"
        },
        "id": "NmmHXDjvThN3",
        "outputId": "2862d365-c156-4795-8a5a-22e82b43f8b7"
      },
      "execution_count": null,
      "outputs": [
        {
          "output_type": "stream",
          "name": "stdout",
          "text": [
            "최댓값 인덱스: 4\n",
            "최솟값 인덱스: 6\n"
          ]
        }
      ]
    },
    {
      "cell_type": "code",
      "source": [
        "arr = np.array([1,2,3,2,4,5])\n",
        "cs = arr.cumsum()  #arr의 누적 합\n",
        "print(cs)\n"
      ],
      "metadata": {
        "colab": {
          "base_uri": "https://localhost:8080/"
        },
        "id": "4EskRUxCTsA2",
        "outputId": "feb77a97-f685-43b2-a069-c503e3296e6b"
      },
      "execution_count": null,
      "outputs": [
        {
          "output_type": "stream",
          "name": "stdout",
          "text": [
            "[ 1  3  6  8 12 17]\n"
          ]
        }
      ]
    },
    {
      "cell_type": "code",
      "source": [
        "arr.sort()\n",
        "print(arr)"
      ],
      "metadata": {
        "colab": {
          "base_uri": "https://localhost:8080/"
        },
        "id": "AxvHl2vHT2_g",
        "outputId": "4d585d0b-543c-41c7-ec18-c31750e14d4f"
      },
      "execution_count": null,
      "outputs": [
        {
          "output_type": "stream",
          "name": "stdout",
          "text": [
            "[1 2 2 3 4 5]\n"
          ]
        }
      ]
    },
    {
      "cell_type": "code",
      "source": [
        "arr = [1,2,34,2,2,4,23,2,3,2,4,1,1,2,1]\n",
        "sa = np.unique(arr)\n",
        "print(sa)\n"
      ],
      "metadata": {
        "colab": {
          "base_uri": "https://localhost:8080/"
        },
        "id": "a5caWkvvUG7F",
        "outputId": "3064cb61-d347-4e6a-d47f-b76e1a201db6"
      },
      "execution_count": null,
      "outputs": [
        {
          "output_type": "stream",
          "name": "stdout",
          "text": [
            "[ 1  2  3  4 23 34]\n"
          ]
        }
      ]
    },
    {
      "cell_type": "code",
      "source": [
        "s = {1,2,3,2,1,2,3,2,1,2}\n",
        "print(s)"
      ],
      "metadata": {
        "colab": {
          "base_uri": "https://localhost:8080/"
        },
        "id": "4FVjtQrKUfei",
        "outputId": "a6e80612-ad00-4b27-f36b-9ed81272c77e"
      },
      "execution_count": null,
      "outputs": [
        {
          "output_type": "stream",
          "name": "stdout",
          "text": [
            "{1, 2, 3}\n"
          ]
        }
      ]
    },
    {
      "cell_type": "markdown",
      "source": [
        "## 선형 대수 - inside numpy"
      ],
      "metadata": {
        "id": "z_Y03SPYaUnn"
      }
    },
    {
      "cell_type": "code",
      "source": [
        "def add_list(ls1,ls2):\n",
        "  re = []\n",
        "  assert len(ls1)==len(ls2), '두 개의 리스트 원소 개수는 같아야 합니다.'\n",
        "  for i,e in enumerate(ls1):\n",
        "    re.append(ls1[i]+ls2[i])\n",
        "  return re"
      ],
      "metadata": {
        "id": "SS1lYgrCVEEj"
      },
      "execution_count": null,
      "outputs": []
    },
    {
      "cell_type": "code",
      "source": [
        "re = add_list([1,2,3],[4,6,7])\n",
        "print(re)"
      ],
      "metadata": {
        "colab": {
          "base_uri": "https://localhost:8080/"
        },
        "id": "Ban_k-pBaytU",
        "outputId": "95ee62ac-2322-4e4a-ee93-0727a171d6a6"
      },
      "execution_count": null,
      "outputs": [
        {
          "output_type": "stream",
          "name": "stdout",
          "text": [
            "[5, 8, 10]\n"
          ]
        }
      ]
    },
    {
      "cell_type": "code",
      "source": [
        "def add_list(ls1,ls2):\n",
        "  assert len(ls1)==len(ls2),'두 개의 리스트 원소 개수는 같아야 합니다.'\n",
        "  return [ls1[i]+ ls2[i] for i in range(len(ls1))]"
      ],
      "metadata": {
        "id": "5BQwcqndbDhC"
      },
      "execution_count": null,
      "outputs": []
    },
    {
      "cell_type": "code",
      "source": [
        "assert add_list([1,2,3],[4,6,7]) == [5,8,10]  #이렇게 test해보자"
      ],
      "metadata": {
        "id": "z23x6tVBcOlm"
      },
      "execution_count": null,
      "outputs": []
    },
    {
      "cell_type": "code",
      "source": [
        "re = add_list([1,2,3],[4,6,7])\n",
        "print(re)"
      ],
      "metadata": {
        "colab": {
          "base_uri": "https://localhost:8080/"
        },
        "id": "RCF6h12Ibcb9",
        "outputId": "a2fe9de7-47db-4dff-9598-9102fc416d0d"
      },
      "execution_count": null,
      "outputs": [
        {
          "output_type": "stream",
          "name": "stdout",
          "text": [
            "[5, 8, 10]\n"
          ]
        }
      ]
    },
    {
      "cell_type": "code",
      "source": [
        "def subtract(ls1,ls2):\n",
        "  assert len(ls1)==len(ls2), '두 개의 리스트 원소 개수는 같아야 합니다.'\n",
        "  return [ls1[i]- ls2[i] for i in range(len(ls1))]"
      ],
      "metadata": {
        "id": "tuX45enldJ6Z"
      },
      "execution_count": null,
      "outputs": []
    },
    {
      "cell_type": "code",
      "source": [
        "assert subtract([4,2,8],[1,3,5]) == [3,-1,3]"
      ],
      "metadata": {
        "id": "TTSqSzvWdvtx"
      },
      "execution_count": null,
      "outputs": []
    },
    {
      "cell_type": "code",
      "source": [
        "def scalar_multiply(ls1,num):\n",
        "  return [num*ls1[i] for i in range(len(ls1))]"
      ],
      "metadata": {
        "id": "z3Xc9lG3d1i2"
      },
      "execution_count": null,
      "outputs": []
    },
    {
      "cell_type": "code",
      "source": [
        "assert scalar_multiply([2,3,4],3)==[6,9,12]"
      ],
      "metadata": {
        "id": "wieyQoz5eNkY"
      },
      "execution_count": null,
      "outputs": []
    },
    {
      "cell_type": "code",
      "source": [
        "arr1 = [[1,2],[3,4]]\n",
        "arr2 = [[2,3],[1,2]]\n",
        "re = np.dot(arr1,arr2)\n",
        "print(re)"
      ],
      "metadata": {
        "colab": {
          "base_uri": "https://localhost:8080/"
        },
        "id": "z1bD8fnDeSEB",
        "outputId": "1c34c08e-329b-46c8-f8e3-3ae3322e5b4d"
      },
      "execution_count": null,
      "outputs": [
        {
          "output_type": "stream",
          "name": "stdout",
          "text": [
            "[[ 4  7]\n",
            " [10 17]]\n"
          ]
        }
      ]
    },
    {
      "cell_type": "code",
      "source": [
        "def dot(ls1,ls2):\n",
        "  return sum(v_i*w_i for v_i,w_i in zip(ls1,ls2))"
      ],
      "metadata": {
        "id": "Kb7hyh_-edHV"
      },
      "execution_count": null,
      "outputs": []
    },
    {
      "cell_type": "code",
      "source": [
        "print(dot([1,2,3],[4,5,6]))"
      ],
      "metadata": {
        "colab": {
          "base_uri": "https://localhost:8080/"
        },
        "id": "9nl1D7HDe9ct",
        "outputId": "95504993-e3a4-4063-ae86-520cd5372931"
      },
      "execution_count": null,
      "outputs": [
        {
          "output_type": "stream",
          "name": "stdout",
          "text": [
            "32\n"
          ]
        }
      ]
    },
    {
      "cell_type": "code",
      "source": [
        "np.dot(np.array([1,2,3]),np.array([4,5,6]))"
      ],
      "metadata": {
        "colab": {
          "base_uri": "https://localhost:8080/"
        },
        "id": "HVvJHknYe_28",
        "outputId": "2352c357-2a68-41d5-e9a3-6aefee80aae0"
      },
      "execution_count": null,
      "outputs": [
        {
          "output_type": "execute_result",
          "data": {
            "text/plain": [
              "32"
            ]
          },
          "metadata": {},
          "execution_count": 140
        }
      ]
    },
    {
      "cell_type": "code",
      "source": [
        "arr = np.diag((3,3,1,3,5,7))\n",
        "print(arr)"
      ],
      "metadata": {
        "colab": {
          "base_uri": "https://localhost:8080/"
        },
        "id": "GxwNxv_zfSJt",
        "outputId": "02cbd7c9-a78e-42d0-dd8e-2f28c8db87b5"
      },
      "execution_count": null,
      "outputs": [
        {
          "output_type": "stream",
          "name": "stdout",
          "text": [
            "[[3 0 0 0 0 0]\n",
            " [0 3 0 0 0 0]\n",
            " [0 0 1 0 0 0]\n",
            " [0 0 0 3 0 0]\n",
            " [0 0 0 0 5 0]\n",
            " [0 0 0 0 0 7]]\n"
          ]
        }
      ]
    },
    {
      "cell_type": "code",
      "source": [
        "for _ in range(10):\n",
        "  print(np.random.rand()) # 반환값이 0~1 사이의 랜덤한 값임 : rand\n"
      ],
      "metadata": {
        "colab": {
          "base_uri": "https://localhost:8080/"
        },
        "id": "1oyC1s-Fgaaq",
        "outputId": "3bb85edc-d916-4234-f217-c0b8924383f4"
      },
      "execution_count": null,
      "outputs": [
        {
          "output_type": "stream",
          "name": "stdout",
          "text": [
            "0.06240424455649962\n",
            "0.6773801771451884\n",
            "0.9009713316941731\n",
            "0.27187922555869737\n",
            "0.40488921162936753\n",
            "0.5085561613163189\n",
            "0.6417251440560566\n",
            "0.14810072713184907\n",
            "0.7011425483519174\n",
            "0.1975058660615402\n"
          ]
        }
      ]
    },
    {
      "cell_type": "code",
      "source": [
        "for _ in range(10):\n",
        "  print(np.random.random(size=3)) # 0~1 사이인데 사이즈 지정 가능 : random"
      ],
      "metadata": {
        "colab": {
          "base_uri": "https://localhost:8080/"
        },
        "id": "bjNVYMl6hL7x",
        "outputId": "78556286-eeda-4090-ff9b-6efbc8743671"
      },
      "execution_count": null,
      "outputs": [
        {
          "output_type": "stream",
          "name": "stdout",
          "text": [
            "[0.36405627 0.75271322 0.12348223]\n",
            "[0.27573505 0.51794365 0.80320258]\n",
            "[0.29673197 0.00983927 0.32488256]\n",
            "[0.76032753 0.86587068 0.35023323]\n",
            "[0.14970716 0.47542184 0.87414082]\n",
            "[0.11487349 0.7605211  0.22045157]\n",
            "[0.61926264 0.59076782 0.05981517]\n",
            "[0.39938978 0.50731306 0.3692671 ]\n",
            "[0.87685796 0.61503669 0.47619488]\n",
            "[0.97019245 0.57705444 0.62148362]\n"
          ]
        }
      ]
    },
    {
      "cell_type": "code",
      "source": [
        "for _ in range(10):\n",
        "  print(np.random.uniform(-2,3)) # 원하는 범위 지정 가능 : uniform"
      ],
      "metadata": {
        "colab": {
          "base_uri": "https://localhost:8080/"
        },
        "id": "tBN7Ovkwhlom",
        "outputId": "cf938c12-710e-4d67-c675-aaf6dabe9d78"
      },
      "execution_count": null,
      "outputs": [
        {
          "output_type": "stream",
          "name": "stdout",
          "text": [
            "1.7207245403468194\n",
            "0.22314859431952616\n",
            "-0.04136295469728246\n",
            "1.6105363613289834\n",
            "0.21053219669658407\n",
            "-1.5680928782432462\n",
            "-0.8248525934392097\n",
            "2.657860837839726\n",
            "2.98842300512824\n",
            "2.470255693885176\n"
          ]
        }
      ]
    },
    {
      "cell_type": "code",
      "source": [
        "for _ in range(10):\n",
        "  print(np.random.randint(10)) # 범위 내에서 랜덤한 정수값 고르는 것"
      ],
      "metadata": {
        "colab": {
          "base_uri": "https://localhost:8080/"
        },
        "id": "phjGHGCmh0Wx",
        "outputId": "f884e33b-2d55-47a5-b822-6440ec6552d6"
      },
      "execution_count": null,
      "outputs": [
        {
          "output_type": "stream",
          "name": "stdout",
          "text": [
            "9\n",
            "8\n",
            "3\n",
            "2\n",
            "0\n",
            "8\n",
            "6\n",
            "1\n",
            "9\n",
            "5\n"
          ]
        }
      ]
    },
    {
      "cell_type": "code",
      "source": [
        "for _ in range(20):\n",
        "  print(np.random.randint(1,7),end=' ')"
      ],
      "metadata": {
        "colab": {
          "base_uri": "https://localhost:8080/"
        },
        "id": "gapriqM7iRdZ",
        "outputId": "7854dcc4-3ac5-442c-96ce-d8a19d9f5be2"
      },
      "execution_count": null,
      "outputs": [
        {
          "output_type": "stream",
          "name": "stdout",
          "text": [
            "4 3 5 4 1 5 3 5 6 5 5 3 3 1 3 1 6 5 4 4 "
          ]
        }
      ]
    },
    {
      "cell_type": "code",
      "source": [
        "for _ in range(20):\n",
        "  print(np.random.randint(1,45), end = ' ') #로또 번호 "
      ],
      "metadata": {
        "colab": {
          "base_uri": "https://localhost:8080/"
        },
        "id": "w1dYJ5Mgidwb",
        "outputId": "b2b58cdf-9452-4478-adcd-54744cecfe79"
      },
      "execution_count": null,
      "outputs": [
        {
          "output_type": "stream",
          "name": "stdout",
          "text": [
            "8 9 24 6 36 40 24 20 28 43 44 8 4 33 17 9 42 20 10 29 "
          ]
        }
      ]
    },
    {
      "cell_type": "code",
      "source": [
        "for _ in range(20):\n",
        "  print(np.random.choice([1,3,2,8]), end = ' ') # 1,3,2,8 중에서 골라서 20개 추출"
      ],
      "metadata": {
        "colab": {
          "base_uri": "https://localhost:8080/"
        },
        "id": "if0niS_liqrS",
        "outputId": "6bb0af34-3f65-4c24-c8b7-12a5e0c1c5df"
      },
      "execution_count": null,
      "outputs": [
        {
          "output_type": "stream",
          "name": "stdout",
          "text": [
            "8 2 3 8 8 3 1 1 3 8 1 3 3 1 2 2 3 8 8 3 "
          ]
        }
      ]
    },
    {
      "cell_type": "code",
      "source": [
        ""
      ],
      "metadata": {
        "id": "J9IUcd5FjFL6"
      },
      "execution_count": null,
      "outputs": []
    }
  ]
}