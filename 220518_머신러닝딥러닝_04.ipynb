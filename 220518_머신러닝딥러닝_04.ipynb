{
  "nbformat": 4,
  "nbformat_minor": 0,
  "metadata": {
    "colab": {
      "name": "220518 머신러닝딥러닝 04.ipynb",
      "provenance": [],
      "mount_file_id": "1ciPjoYVwCYDDlMbGCZmBoKF2iKPn-pJp",
      "authorship_tag": "ABX9TyP26RHBAPcbCIprH3YnwyV+",
      "include_colab_link": true
    },
    "kernelspec": {
      "name": "python3",
      "display_name": "Python 3"
    },
    "language_info": {
      "name": "python"
    }
  },
  "cells": [
    {
      "cell_type": "markdown",
      "metadata": {
        "id": "view-in-github",
        "colab_type": "text"
      },
      "source": [
        "<a href=\"https://colab.research.google.com/github/robo0803/Lecture_Python/blob/master/220518_%EB%A8%B8%EC%8B%A0%EB%9F%AC%EB%8B%9D%EB%94%A5%EB%9F%AC%EB%8B%9D_04.ipynb\" target=\"_parent\"><img src=\"https://colab.research.google.com/assets/colab-badge.svg\" alt=\"Open In Colab\"/></a>"
      ]
    },
    {
      "cell_type": "markdown",
      "source": [
        "드롭아웃"
      ],
      "metadata": {
        "id": "HNPNocQnk-ki"
      }
    },
    {
      "cell_type": "code",
      "execution_count": null,
      "metadata": {
        "id": "5M_mB4PChBtj"
      },
      "outputs": [],
      "source": [
        "from tensorflow import keras\n",
        "(train_input,train_target),(test_input,test_target) = keras.datasets.fashion_mnist.load_data()\n",
        "train_scaled = train_input/255.0\n",
        "test_scaled = test_input/255.0\n"
      ]
    },
    {
      "cell_type": "code",
      "source": [
        "model = keras.Sequential()\n",
        "model.add(keras.layers.Flatten(input_shape=(28,28))) #faltten : 한줄로 펼쳐놓\n",
        "model.add(keras.layers.Dense(100,activation='sigmoid')) #이진분류\n",
        "model.add(keras.layers.Dropout(0.5)) \n",
        "model.add(keras.layers.Dense(10,activation='softmax'))  #다중분류\n",
        "model.compile(optimizer='adam' ,loss = keras.losses.sparse_categorical_crossentropy,metrics='accuracy')   \n",
        "model.summary()"
      ],
      "metadata": {
        "colab": {
          "base_uri": "https://localhost:8080/"
        },
        "id": "D2jnhRdNhfsT",
        "outputId": "39ae9acf-6cf2-4c84-e52e-4acedce917a6"
      },
      "execution_count": null,
      "outputs": [
        {
          "output_type": "stream",
          "name": "stdout",
          "text": [
            "Model: \"sequential_4\"\n",
            "_________________________________________________________________\n",
            " Layer (type)                Output Shape              Param #   \n",
            "=================================================================\n",
            " flatten_4 (Flatten)         (None, 784)               0         \n",
            "                                                                 \n",
            " dense_8 (Dense)             (None, 100)               78500     \n",
            "                                                                 \n",
            " dropout_4 (Dropout)         (None, 100)               0         \n",
            "                                                                 \n",
            " dense_9 (Dense)             (None, 10)                1010      \n",
            "                                                                 \n",
            "=================================================================\n",
            "Total params: 79,510\n",
            "Trainable params: 79,510\n",
            "Non-trainable params: 0\n",
            "_________________________________________________________________\n"
          ]
        }
      ]
    },
    {
      "cell_type": "code",
      "source": [
        "hist = model.fit(train_scaled,train_target,epochs=30, validation_split=0.2)"
      ],
      "metadata": {
        "colab": {
          "base_uri": "https://localhost:8080/"
        },
        "id": "iOJyXKoZiRDj",
        "outputId": "6a4193bb-dd93-474d-a588-9e81e5ae06aa"
      },
      "execution_count": null,
      "outputs": [
        {
          "output_type": "stream",
          "name": "stdout",
          "text": [
            "Epoch 1/30\n",
            "1500/1500 [==============================] - 5s 3ms/step - loss: 0.7453 - accuracy: 0.7415 - val_loss: 0.4757 - val_accuracy: 0.8272\n",
            "Epoch 2/30\n",
            "1500/1500 [==============================] - 4s 3ms/step - loss: 0.5160 - accuracy: 0.8173 - val_loss: 0.4212 - val_accuracy: 0.8443\n",
            "Epoch 3/30\n",
            "1500/1500 [==============================] - 4s 3ms/step - loss: 0.4717 - accuracy: 0.8319 - val_loss: 0.4066 - val_accuracy: 0.8532\n",
            "Epoch 4/30\n",
            "1500/1500 [==============================] - 4s 3ms/step - loss: 0.4470 - accuracy: 0.8399 - val_loss: 0.4000 - val_accuracy: 0.8486\n",
            "Epoch 5/30\n",
            "1500/1500 [==============================] - 4s 3ms/step - loss: 0.4271 - accuracy: 0.8472 - val_loss: 0.3747 - val_accuracy: 0.8631\n",
            "Epoch 6/30\n",
            "1500/1500 [==============================] - 4s 3ms/step - loss: 0.4148 - accuracy: 0.8504 - val_loss: 0.3670 - val_accuracy: 0.8635\n",
            "Epoch 7/30\n",
            "1500/1500 [==============================] - 4s 3ms/step - loss: 0.4046 - accuracy: 0.8536 - val_loss: 0.3614 - val_accuracy: 0.8676\n",
            "Epoch 8/30\n",
            "1500/1500 [==============================] - 4s 3ms/step - loss: 0.3972 - accuracy: 0.8568 - val_loss: 0.3584 - val_accuracy: 0.8682\n",
            "Epoch 9/30\n",
            "1500/1500 [==============================] - 4s 3ms/step - loss: 0.3890 - accuracy: 0.8604 - val_loss: 0.3509 - val_accuracy: 0.8730\n",
            "Epoch 10/30\n",
            "1500/1500 [==============================] - 4s 3ms/step - loss: 0.3829 - accuracy: 0.8611 - val_loss: 0.3485 - val_accuracy: 0.8717\n",
            "Epoch 11/30\n",
            "1500/1500 [==============================] - 4s 3ms/step - loss: 0.3755 - accuracy: 0.8658 - val_loss: 0.3410 - val_accuracy: 0.8749\n",
            "Epoch 12/30\n",
            "1500/1500 [==============================] - 4s 3ms/step - loss: 0.3677 - accuracy: 0.8676 - val_loss: 0.3439 - val_accuracy: 0.8747\n",
            "Epoch 13/30\n",
            "1500/1500 [==============================] - 4s 3ms/step - loss: 0.3640 - accuracy: 0.8675 - val_loss: 0.3382 - val_accuracy: 0.8754\n",
            "Epoch 14/30\n",
            "1500/1500 [==============================] - 4s 3ms/step - loss: 0.3576 - accuracy: 0.8713 - val_loss: 0.3307 - val_accuracy: 0.8798\n",
            "Epoch 15/30\n",
            "1500/1500 [==============================] - 4s 3ms/step - loss: 0.3557 - accuracy: 0.8706 - val_loss: 0.3336 - val_accuracy: 0.8765\n",
            "Epoch 16/30\n",
            "1500/1500 [==============================] - 4s 3ms/step - loss: 0.3492 - accuracy: 0.8727 - val_loss: 0.3275 - val_accuracy: 0.8798\n",
            "Epoch 17/30\n",
            "1500/1500 [==============================] - 4s 3ms/step - loss: 0.3457 - accuracy: 0.8748 - val_loss: 0.3291 - val_accuracy: 0.8790\n",
            "Epoch 18/30\n",
            "1500/1500 [==============================] - 4s 3ms/step - loss: 0.3432 - accuracy: 0.8742 - val_loss: 0.3258 - val_accuracy: 0.8811\n",
            "Epoch 19/30\n",
            "1500/1500 [==============================] - 4s 3ms/step - loss: 0.3406 - accuracy: 0.8761 - val_loss: 0.3223 - val_accuracy: 0.8824\n",
            "Epoch 20/30\n",
            "1500/1500 [==============================] - 4s 3ms/step - loss: 0.3370 - accuracy: 0.8768 - val_loss: 0.3262 - val_accuracy: 0.8827\n",
            "Epoch 21/30\n",
            "1500/1500 [==============================] - 5s 3ms/step - loss: 0.3348 - accuracy: 0.8771 - val_loss: 0.3281 - val_accuracy: 0.8806\n",
            "Epoch 22/30\n",
            "1500/1500 [==============================] - 5s 3ms/step - loss: 0.3301 - accuracy: 0.8791 - val_loss: 0.3213 - val_accuracy: 0.8825\n",
            "Epoch 23/30\n",
            "1500/1500 [==============================] - 5s 3ms/step - loss: 0.3279 - accuracy: 0.8792 - val_loss: 0.3197 - val_accuracy: 0.8852\n",
            "Epoch 24/30\n",
            "1500/1500 [==============================] - 4s 3ms/step - loss: 0.3229 - accuracy: 0.8820 - val_loss: 0.3168 - val_accuracy: 0.8844\n",
            "Epoch 25/30\n",
            "1500/1500 [==============================] - 5s 3ms/step - loss: 0.3207 - accuracy: 0.8830 - val_loss: 0.3150 - val_accuracy: 0.8869\n",
            "Epoch 26/30\n",
            "1500/1500 [==============================] - 5s 3ms/step - loss: 0.3179 - accuracy: 0.8820 - val_loss: 0.3170 - val_accuracy: 0.8882\n",
            "Epoch 27/30\n",
            "1500/1500 [==============================] - 6s 4ms/step - loss: 0.3164 - accuracy: 0.8832 - val_loss: 0.3190 - val_accuracy: 0.8871\n",
            "Epoch 28/30\n",
            "1500/1500 [==============================] - 5s 3ms/step - loss: 0.3179 - accuracy: 0.8832 - val_loss: 0.3142 - val_accuracy: 0.8874\n",
            "Epoch 29/30\n",
            "1500/1500 [==============================] - 4s 3ms/step - loss: 0.3141 - accuracy: 0.8842 - val_loss: 0.3170 - val_accuracy: 0.8878\n",
            "Epoch 30/30\n",
            "1500/1500 [==============================] - 4s 3ms/step - loss: 0.3118 - accuracy: 0.8854 - val_loss: 0.3215 - val_accuracy: 0.8881\n"
          ]
        }
      ]
    },
    {
      "cell_type": "code",
      "source": [
        " model.save_weights('model-weights.h5') #파라미터만 보관"
      ],
      "metadata": {
        "id": "o7VDAhrZi0zz"
      },
      "execution_count": null,
      "outputs": []
    },
    {
      "cell_type": "code",
      "source": [
        "model.save('model-whole.h5') #모델 자체를 기억하고싶을때"
      ],
      "metadata": {
        "id": "FTUXoqsCjDmK"
      },
      "execution_count": null,
      "outputs": []
    },
    {
      "cell_type": "code",
      "source": [
        "!ls -al *.h5 #file 잘 만들어졌는지 확인"
      ],
      "metadata": {
        "colab": {
          "base_uri": "https://localhost:8080/"
        },
        "id": "KiaxEjn3j_lk",
        "outputId": "25ea39cf-5cd8-47c7-afde-b59ae9799f97"
      },
      "execution_count": null,
      "outputs": [
        {
          "output_type": "stream",
          "name": "stdout",
          "text": [
            "-rw-r--r-- 1 root root 333448 May 18 01:09 model-weights.h5\n",
            "-rw-r--r-- 1 root root 982664 May 18 01:09 model-whole.h5\n"
          ]
        }
      ]
    },
    {
      "cell_type": "code",
      "source": [
        "import sys\n",
        "print(sys.path) #여기에 나오는 것들은 파일명만으로도 load가능"
      ],
      "metadata": {
        "colab": {
          "base_uri": "https://localhost:8080/"
        },
        "id": "yHQ_BrmlkmDS",
        "outputId": "aa545b8c-a34c-490b-f10d-2bf8fc479c0a"
      },
      "execution_count": null,
      "outputs": [
        {
          "output_type": "stream",
          "name": "stdout",
          "text": [
            "['', '/content', '/env/python', '/usr/lib/python37.zip', '/usr/lib/python3.7', '/usr/lib/python3.7/lib-dynload', '/usr/local/lib/python3.7/dist-packages', '/usr/lib/python3/dist-packages', '/usr/local/lib/python3.7/dist-packages/IPython/extensions', '/root/.ipython']\n"
          ]
        }
      ]
    },
    {
      "cell_type": "code",
      "source": [
        "model2 = keras.models.load_model('/content/model-whole.h5')\n",
        "model2.summary()"
      ],
      "metadata": {
        "colab": {
          "base_uri": "https://localhost:8080/"
        },
        "id": "4RHDaqPDkDXW",
        "outputId": "b78689f7-cfa9-4102-b944-c777e869c7f0"
      },
      "execution_count": null,
      "outputs": [
        {
          "output_type": "stream",
          "name": "stdout",
          "text": [
            "Model: \"sequential_4\"\n",
            "_________________________________________________________________\n",
            " Layer (type)                Output Shape              Param #   \n",
            "=================================================================\n",
            " flatten_4 (Flatten)         (None, 784)               0         \n",
            "                                                                 \n",
            " dense_8 (Dense)             (None, 100)               78500     \n",
            "                                                                 \n",
            " dropout_4 (Dropout)         (None, 100)               0         \n",
            "                                                                 \n",
            " dense_9 (Dense)             (None, 10)                1010      \n",
            "                                                                 \n",
            "=================================================================\n",
            "Total params: 79,510\n",
            "Trainable params: 79,510\n",
            "Non-trainable params: 0\n",
            "_________________________________________________________________\n"
          ]
        }
      ]
    },
    {
      "cell_type": "code",
      "source": [
        "print(model2.weights)"
      ],
      "metadata": {
        "id": "X98nnwwOkx9b"
      },
      "execution_count": null,
      "outputs": []
    },
    {
      "cell_type": "code",
      "source": [
        "model2.evaluate(test_scaled,test_target) #학습 완료된 상태"
      ],
      "metadata": {
        "colab": {
          "base_uri": "https://localhost:8080/"
        },
        "id": "wlgLml-alA66",
        "outputId": "d7ad26f6-8467-4ef7-ffd2-04246002eb19"
      },
      "execution_count": null,
      "outputs": [
        {
          "output_type": "stream",
          "name": "stdout",
          "text": [
            "313/313 [==============================] - 1s 2ms/step - loss: 0.3542 - accuracy: 0.8761\n"
          ]
        },
        {
          "output_type": "execute_result",
          "data": {
            "text/plain": [
              "[0.3541989028453827, 0.8761000037193298]"
            ]
          },
          "metadata": {},
          "execution_count": 33
        }
      ]
    },
    {
      "cell_type": "markdown",
      "source": [
        "# 콜백 \n",
        "사용자가 알고리즘 전달해서 그 알고리즘 이용하는것...?\n",
        "\n",
        "함수 또는 메서드'에게 자기 자신(콜백함수)를 인자로 전달하여 실행하게 끔 하는 함수\n",
        "\n",
        "p.408"
      ],
      "metadata": {
        "id": "vV6qpjOVlVCy"
      }
    },
    {
      "cell_type": "code",
      "source": [
        "def add(a,b):\n",
        "  print(f'add:{a},{b}')\n",
        "  return a+b"
      ],
      "metadata": {
        "id": "N3ar3EeWlIuy"
      },
      "execution_count": null,
      "outputs": []
    },
    {
      "cell_type": "code",
      "source": [
        "def sub(a,b):\n",
        "  print(f'sub:{a},{b}')\n",
        "  return a-b"
      ],
      "metadata": {
        "id": "hnRNDcTMmyDj"
      },
      "execution_count": null,
      "outputs": []
    },
    {
      "cell_type": "code",
      "source": [
        "def doall(ls1,ls2,fn):\n",
        "  s = []\n",
        "  for i in range(len(ls1)):\n",
        "    s.append(fn(ls1[i],ls2[i]))\n",
        "  return s"
      ],
      "metadata": {
        "id": "ArcNUdLrmLO4"
      },
      "execution_count": null,
      "outputs": []
    },
    {
      "cell_type": "code",
      "source": [
        "re = doall([1,2,3],[4,5,6],add) #내가 호출한게 내가 전달한 것을 호출한 상황일때 call back\n",
        "print(re)"
      ],
      "metadata": {
        "colab": {
          "base_uri": "https://localhost:8080/"
        },
        "id": "3kuZn3CAmkZe",
        "outputId": "a8ecce98-7d35-4d86-e916-83a0a05856b8"
      },
      "execution_count": null,
      "outputs": [
        {
          "output_type": "stream",
          "name": "stdout",
          "text": [
            "add:1,4\n",
            "add:2,5\n",
            "add:3,6\n",
            "[5, 7, 9]\n"
          ]
        }
      ]
    },
    {
      "cell_type": "code",
      "source": [
        "re = doall([1,2,3],[4,5,6],sub)\n",
        "print(re)  "
      ],
      "metadata": {
        "colab": {
          "base_uri": "https://localhost:8080/"
        },
        "id": "q3-Jzlt5m4Ou",
        "outputId": "41d0a493-3d07-48ad-8bf2-c0080970b997"
      },
      "execution_count": null,
      "outputs": [
        {
          "output_type": "stream",
          "name": "stdout",
          "text": [
            "sub:1,4\n",
            "sub:2,5\n",
            "sub:3,6\n",
            "[-3, -3, -3]\n"
          ]
        }
      ]
    },
    {
      "cell_type": "code",
      "source": [
        "model = keras.Sequential()\n",
        "model.add(keras.layers.Flatten(input_shape=(28,28))) #faltten : 한줄로 펼쳐놓\n",
        "model.add(keras.layers.Dense(100,activation='sigmoid')) #이진분류\n",
        "model.add(keras.layers.Dropout(0.5)) \n",
        "model.add(keras.layers.Dense(10,activation='softmax'))  #다중분류\n",
        "\n",
        "\n",
        "\n",
        "model.compile(optimizer='adam' ,loss = keras.losses.sparse_categorical_crossentropy,metrics='accuracy')   \n",
        "model.summary()"
      ],
      "metadata": {
        "colab": {
          "base_uri": "https://localhost:8080/"
        },
        "id": "AeyUnPgim-Qo",
        "outputId": "b8336673-2dcb-418c-cff6-e3c874e948c2"
      },
      "execution_count": null,
      "outputs": [
        {
          "output_type": "stream",
          "name": "stdout",
          "text": [
            "Model: \"sequential_5\"\n",
            "_________________________________________________________________\n",
            " Layer (type)                Output Shape              Param #   \n",
            "=================================================================\n",
            " flatten_5 (Flatten)         (None, 784)               0         \n",
            "                                                                 \n",
            " dense_10 (Dense)            (None, 100)               78500     \n",
            "                                                                 \n",
            " dropout_5 (Dropout)         (None, 100)               0         \n",
            "                                                                 \n",
            " dense_11 (Dense)            (None, 10)                1010      \n",
            "                                                                 \n",
            "=================================================================\n",
            "Total params: 79,510\n",
            "Trainable params: 79,510\n",
            "Non-trainable params: 0\n",
            "_________________________________________________________________\n"
          ]
        }
      ]
    },
    {
      "cell_type": "code",
      "source": [
        "checkpoint_cb = keras.callbacks.ModelCheckpoint('best-model.h5',save_best_only=True) #제일 좋은 값 하나만 h5에 저장해라\n",
        "\n",
        "hist = model.fit(train_scaled,train_target,epochs=30, validation_split=0.2,callbacks=[checkpoint_cb])"
      ],
      "metadata": {
        "colab": {
          "base_uri": "https://localhost:8080/"
        },
        "id": "Xxh2g5hVsXpZ",
        "outputId": "934f7124-ef7b-4d51-8195-6be76c7f4ac8"
      },
      "execution_count": null,
      "outputs": [
        {
          "output_type": "stream",
          "name": "stdout",
          "text": [
            "Epoch 1/30\n",
            "1500/1500 [==============================] - 5s 3ms/step - loss: 0.7409 - accuracy: 0.7409 - val_loss: 0.4728 - val_accuracy: 0.8274\n",
            "Epoch 2/30\n",
            "1500/1500 [==============================] - 4s 3ms/step - loss: 0.5122 - accuracy: 0.8194 - val_loss: 0.4174 - val_accuracy: 0.8476\n",
            "Epoch 3/30\n",
            "1500/1500 [==============================] - 4s 3ms/step - loss: 0.4678 - accuracy: 0.8347 - val_loss: 0.3984 - val_accuracy: 0.8536\n",
            "Epoch 4/30\n",
            "1500/1500 [==============================] - 4s 3ms/step - loss: 0.4430 - accuracy: 0.8431 - val_loss: 0.3930 - val_accuracy: 0.8539\n",
            "Epoch 5/30\n",
            "1500/1500 [==============================] - 4s 3ms/step - loss: 0.4280 - accuracy: 0.8474 - val_loss: 0.3714 - val_accuracy: 0.8639\n",
            "Epoch 6/30\n",
            "1500/1500 [==============================] - 4s 3ms/step - loss: 0.4133 - accuracy: 0.8528 - val_loss: 0.3664 - val_accuracy: 0.8645\n",
            "Epoch 7/30\n",
            "1500/1500 [==============================] - 4s 3ms/step - loss: 0.4026 - accuracy: 0.8534 - val_loss: 0.3657 - val_accuracy: 0.8633\n",
            "Epoch 8/30\n",
            "1500/1500 [==============================] - 5s 3ms/step - loss: 0.3916 - accuracy: 0.8596 - val_loss: 0.3486 - val_accuracy: 0.8722\n",
            "Epoch 9/30\n",
            "1500/1500 [==============================] - 4s 3ms/step - loss: 0.3845 - accuracy: 0.8614 - val_loss: 0.3472 - val_accuracy: 0.8731\n",
            "Epoch 10/30\n",
            "1500/1500 [==============================] - 4s 3ms/step - loss: 0.3804 - accuracy: 0.8625 - val_loss: 0.3471 - val_accuracy: 0.8727\n",
            "Epoch 11/30\n",
            "1500/1500 [==============================] - 4s 3ms/step - loss: 0.3750 - accuracy: 0.8651 - val_loss: 0.3409 - val_accuracy: 0.8763\n",
            "Epoch 12/30\n",
            "1500/1500 [==============================] - 4s 3ms/step - loss: 0.3648 - accuracy: 0.8694 - val_loss: 0.3389 - val_accuracy: 0.8796\n",
            "Epoch 13/30\n",
            "1500/1500 [==============================] - 4s 3ms/step - loss: 0.3630 - accuracy: 0.8680 - val_loss: 0.3363 - val_accuracy: 0.8768\n",
            "Epoch 14/30\n",
            "1500/1500 [==============================] - 4s 3ms/step - loss: 0.3552 - accuracy: 0.8704 - val_loss: 0.3372 - val_accuracy: 0.8768\n",
            "Epoch 15/30\n",
            "1500/1500 [==============================] - 4s 3ms/step - loss: 0.3550 - accuracy: 0.8707 - val_loss: 0.3324 - val_accuracy: 0.8799\n",
            "Epoch 16/30\n",
            "1500/1500 [==============================] - 4s 3ms/step - loss: 0.3478 - accuracy: 0.8742 - val_loss: 0.3285 - val_accuracy: 0.8827\n",
            "Epoch 17/30\n",
            "1500/1500 [==============================] - 4s 3ms/step - loss: 0.3466 - accuracy: 0.8752 - val_loss: 0.3244 - val_accuracy: 0.8852\n",
            "Epoch 18/30\n",
            "1500/1500 [==============================] - 4s 3ms/step - loss: 0.3397 - accuracy: 0.8758 - val_loss: 0.3244 - val_accuracy: 0.8829\n",
            "Epoch 19/30\n",
            "1500/1500 [==============================] - 4s 3ms/step - loss: 0.3363 - accuracy: 0.8766 - val_loss: 0.3239 - val_accuracy: 0.8823\n",
            "Epoch 20/30\n",
            "1500/1500 [==============================] - 4s 3ms/step - loss: 0.3370 - accuracy: 0.8773 - val_loss: 0.3235 - val_accuracy: 0.8835\n",
            "Epoch 21/30\n",
            "1500/1500 [==============================] - 5s 3ms/step - loss: 0.3313 - accuracy: 0.8796 - val_loss: 0.3202 - val_accuracy: 0.8847\n",
            "Epoch 22/30\n",
            "1500/1500 [==============================] - 4s 3ms/step - loss: 0.3285 - accuracy: 0.8804 - val_loss: 0.3251 - val_accuracy: 0.8824\n",
            "Epoch 23/30\n",
            "1500/1500 [==============================] - 5s 3ms/step - loss: 0.3238 - accuracy: 0.8826 - val_loss: 0.3229 - val_accuracy: 0.8829\n",
            "Epoch 24/30\n",
            "1500/1500 [==============================] - 5s 3ms/step - loss: 0.3204 - accuracy: 0.8827 - val_loss: 0.3198 - val_accuracy: 0.8863\n",
            "Epoch 25/30\n",
            "1500/1500 [==============================] - 4s 3ms/step - loss: 0.3196 - accuracy: 0.8839 - val_loss: 0.3170 - val_accuracy: 0.8868\n",
            "Epoch 26/30\n",
            "1500/1500 [==============================] - 4s 3ms/step - loss: 0.3182 - accuracy: 0.8822 - val_loss: 0.3170 - val_accuracy: 0.8851\n",
            "Epoch 27/30\n",
            "1500/1500 [==============================] - 4s 3ms/step - loss: 0.3178 - accuracy: 0.8845 - val_loss: 0.3164 - val_accuracy: 0.8880\n",
            "Epoch 28/30\n",
            "1500/1500 [==============================] - 5s 4ms/step - loss: 0.3154 - accuracy: 0.8833 - val_loss: 0.3159 - val_accuracy: 0.8861\n",
            "Epoch 29/30\n",
            "1500/1500 [==============================] - 5s 3ms/step - loss: 0.3114 - accuracy: 0.8851 - val_loss: 0.3206 - val_accuracy: 0.8838\n",
            "Epoch 30/30\n",
            "1500/1500 [==============================] - 5s 3ms/step - loss: 0.3106 - accuracy: 0.8863 - val_loss: 0.3140 - val_accuracy: 0.8876\n"
          ]
        }
      ]
    },
    {
      "cell_type": "code",
      "source": [
        "model3 = keras.models.load_model('best-model.h5')\n",
        "model3.summary()"
      ],
      "metadata": {
        "colab": {
          "base_uri": "https://localhost:8080/"
        },
        "id": "EligwCj6tZlJ",
        "outputId": "d61585d6-c8b2-4148-c01a-4672b3160082"
      },
      "execution_count": null,
      "outputs": [
        {
          "output_type": "stream",
          "name": "stdout",
          "text": [
            "Model: \"sequential_5\"\n",
            "_________________________________________________________________\n",
            " Layer (type)                Output Shape              Param #   \n",
            "=================================================================\n",
            " flatten_5 (Flatten)         (None, 784)               0         \n",
            "                                                                 \n",
            " dense_10 (Dense)            (None, 100)               78500     \n",
            "                                                                 \n",
            " dropout_5 (Dropout)         (None, 100)               0         \n",
            "                                                                 \n",
            " dense_11 (Dense)            (None, 10)                1010      \n",
            "                                                                 \n",
            "=================================================================\n",
            "Total params: 79,510\n",
            "Trainable params: 79,510\n",
            "Non-trainable params: 0\n",
            "_________________________________________________________________\n"
          ]
        }
      ]
    },
    {
      "cell_type": "code",
      "source": [
        "model3.evaluate(test_scaled,test_target)"
      ],
      "metadata": {
        "colab": {
          "base_uri": "https://localhost:8080/"
        },
        "id": "iOJDyWOPtgox",
        "outputId": "f9449d6d-022b-4cca-e031-bcb0470c06b1"
      },
      "execution_count": null,
      "outputs": [
        {
          "output_type": "stream",
          "name": "stdout",
          "text": [
            "313/313 [==============================] - 1s 2ms/step - loss: 0.3501 - accuracy: 0.8782\n"
          ]
        },
        {
          "output_type": "execute_result",
          "data": {
            "text/plain": [
              "[0.350127249956131, 0.8781999945640564]"
            ]
          },
          "metadata": {},
          "execution_count": 43
        }
      ]
    },
    {
      "cell_type": "code",
      "source": [
        "model = keras.Sequential()\n",
        "model.add(keras.layers.Flatten(input_shape=(28,28))) #faltten : 한줄로 펼쳐놓\n",
        "model.add(keras.layers.Dense(100,activation='sigmoid')) #이진분류\n",
        "model.add(keras.layers.Dropout(0.5)) \n",
        "model.add(keras.layers.Dense(10,activation='softmax'))  #다중분류\n",
        "model.compile(optimizer='adam' ,loss = keras.losses.sparse_categorical_crossentropy,metrics='accuracy')   \n",
        "model.summary()"
      ],
      "metadata": {
        "colab": {
          "base_uri": "https://localhost:8080/"
        },
        "id": "bi__Kr20tv-Z",
        "outputId": "8e2588a2-9638-47cc-daca-13518e3c3f45"
      },
      "execution_count": null,
      "outputs": [
        {
          "output_type": "stream",
          "name": "stdout",
          "text": [
            "Model: \"sequential_6\"\n",
            "_________________________________________________________________\n",
            " Layer (type)                Output Shape              Param #   \n",
            "=================================================================\n",
            " flatten_6 (Flatten)         (None, 784)               0         \n",
            "                                                                 \n",
            " dense_12 (Dense)            (None, 100)               78500     \n",
            "                                                                 \n",
            " dropout_6 (Dropout)         (None, 100)               0         \n",
            "                                                                 \n",
            " dense_13 (Dense)            (None, 10)                1010      \n",
            "                                                                 \n",
            "=================================================================\n",
            "Total params: 79,510\n",
            "Trainable params: 79,510\n",
            "Non-trainable params: 0\n",
            "_________________________________________________________________\n"
          ]
        }
      ]
    },
    {
      "cell_type": "code",
      "source": [
        "checkpoint_cb = keras.callbacks.ModelCheckpoint('best-model.h5',save_best_only=True) #제일 좋은 값 하나만 h5에 저장해라\n",
        "early_stopping_cb = keras.callbacks.EarlyStopping(patience=5,restore_best_weights=True) # overfit가기전에 멈춰\n",
        "hist = model.fit(train_scaled,train_target,epochs=1500, validation_split=0.2,callbacks=[checkpoint_cb,early_stopping_cb])"
      ],
      "metadata": {
        "colab": {
          "base_uri": "https://localhost:8080/"
        },
        "id": "B7_yw12Lt3xa",
        "outputId": "573d4385-c7f4-43a1-e360-90a749ff8188"
      },
      "execution_count": null,
      "outputs": [
        {
          "output_type": "stream",
          "name": "stdout",
          "text": [
            "Epoch 1/1500\n",
            "1500/1500 [==============================] - 5s 3ms/step - loss: 0.7452 - accuracy: 0.7438 - val_loss: 0.4679 - val_accuracy: 0.8308\n",
            "Epoch 2/1500\n",
            "1500/1500 [==============================] - 4s 3ms/step - loss: 0.5134 - accuracy: 0.8169 - val_loss: 0.4258 - val_accuracy: 0.8439\n",
            "Epoch 3/1500\n",
            "1500/1500 [==============================] - 4s 3ms/step - loss: 0.4703 - accuracy: 0.8315 - val_loss: 0.3962 - val_accuracy: 0.8572\n",
            "Epoch 4/1500\n",
            "1500/1500 [==============================] - 4s 3ms/step - loss: 0.4439 - accuracy: 0.8406 - val_loss: 0.3799 - val_accuracy: 0.8625\n",
            "Epoch 5/1500\n",
            "1500/1500 [==============================] - 4s 3ms/step - loss: 0.4262 - accuracy: 0.8469 - val_loss: 0.3748 - val_accuracy: 0.8628\n",
            "Epoch 6/1500\n",
            "1500/1500 [==============================] - 4s 3ms/step - loss: 0.4119 - accuracy: 0.8520 - val_loss: 0.3676 - val_accuracy: 0.8663\n",
            "Epoch 7/1500\n",
            "1500/1500 [==============================] - 4s 3ms/step - loss: 0.4022 - accuracy: 0.8544 - val_loss: 0.3585 - val_accuracy: 0.8702\n",
            "Epoch 8/1500\n",
            "1500/1500 [==============================] - 4s 3ms/step - loss: 0.3932 - accuracy: 0.8581 - val_loss: 0.3574 - val_accuracy: 0.8674\n",
            "Epoch 9/1500\n",
            "1500/1500 [==============================] - 4s 3ms/step - loss: 0.3860 - accuracy: 0.8583 - val_loss: 0.3490 - val_accuracy: 0.8726\n",
            "Epoch 10/1500\n",
            "1500/1500 [==============================] - 4s 3ms/step - loss: 0.3783 - accuracy: 0.8626 - val_loss: 0.3480 - val_accuracy: 0.8718\n",
            "Epoch 11/1500\n",
            "1500/1500 [==============================] - 4s 3ms/step - loss: 0.3730 - accuracy: 0.8653 - val_loss: 0.3433 - val_accuracy: 0.8757\n",
            "Epoch 12/1500\n",
            "1500/1500 [==============================] - 4s 3ms/step - loss: 0.3667 - accuracy: 0.8676 - val_loss: 0.3393 - val_accuracy: 0.8766\n",
            "Epoch 13/1500\n",
            "1500/1500 [==============================] - 4s 3ms/step - loss: 0.3634 - accuracy: 0.8663 - val_loss: 0.3335 - val_accuracy: 0.8792\n",
            "Epoch 14/1500\n",
            "1500/1500 [==============================] - 4s 3ms/step - loss: 0.3562 - accuracy: 0.8725 - val_loss: 0.3317 - val_accuracy: 0.8793\n",
            "Epoch 15/1500\n",
            "1500/1500 [==============================] - 4s 3ms/step - loss: 0.3527 - accuracy: 0.8692 - val_loss: 0.3281 - val_accuracy: 0.8818\n",
            "Epoch 16/1500\n",
            "1500/1500 [==============================] - 4s 3ms/step - loss: 0.3488 - accuracy: 0.8734 - val_loss: 0.3271 - val_accuracy: 0.8823\n",
            "Epoch 17/1500\n",
            "1500/1500 [==============================] - 4s 3ms/step - loss: 0.3467 - accuracy: 0.8724 - val_loss: 0.3296 - val_accuracy: 0.8801\n",
            "Epoch 18/1500\n",
            "1500/1500 [==============================] - 4s 3ms/step - loss: 0.3421 - accuracy: 0.8742 - val_loss: 0.3312 - val_accuracy: 0.8817\n",
            "Epoch 19/1500\n",
            "1500/1500 [==============================] - 4s 3ms/step - loss: 0.3392 - accuracy: 0.8760 - val_loss: 0.3350 - val_accuracy: 0.8787\n",
            "Epoch 20/1500\n",
            "1500/1500 [==============================] - 4s 3ms/step - loss: 0.3361 - accuracy: 0.8763 - val_loss: 0.3228 - val_accuracy: 0.8863\n",
            "Epoch 21/1500\n",
            "1500/1500 [==============================] - 4s 3ms/step - loss: 0.3315 - accuracy: 0.8780 - val_loss: 0.3243 - val_accuracy: 0.8832\n",
            "Epoch 22/1500\n",
            "1500/1500 [==============================] - 4s 3ms/step - loss: 0.3280 - accuracy: 0.8794 - val_loss: 0.3205 - val_accuracy: 0.8850\n",
            "Epoch 23/1500\n",
            "1500/1500 [==============================] - 4s 3ms/step - loss: 0.3240 - accuracy: 0.8817 - val_loss: 0.3196 - val_accuracy: 0.8852\n",
            "Epoch 24/1500\n",
            "1500/1500 [==============================] - 4s 3ms/step - loss: 0.3222 - accuracy: 0.8817 - val_loss: 0.3265 - val_accuracy: 0.8820\n",
            "Epoch 25/1500\n",
            "1500/1500 [==============================] - 4s 3ms/step - loss: 0.3191 - accuracy: 0.8828 - val_loss: 0.3230 - val_accuracy: 0.8836\n",
            "Epoch 26/1500\n",
            "1500/1500 [==============================] - 4s 3ms/step - loss: 0.3174 - accuracy: 0.8837 - val_loss: 0.3198 - val_accuracy: 0.8878\n",
            "Epoch 27/1500\n",
            "1500/1500 [==============================] - 4s 3ms/step - loss: 0.3156 - accuracy: 0.8836 - val_loss: 0.3201 - val_accuracy: 0.8890\n",
            "Epoch 28/1500\n",
            "1500/1500 [==============================] - 4s 3ms/step - loss: 0.3122 - accuracy: 0.8845 - val_loss: 0.3213 - val_accuracy: 0.8863\n"
          ]
        }
      ]
    },
    {
      "cell_type": "code",
      "source": [
        "import matplotlib.pyplot as plt\n",
        "plt.plot(hist.history['loss'],label='loss')\n",
        "plt.plot(hist.history['val_loss'],label='val loss')\n",
        "plt.legend()\n",
        "plt.show() #goodfit에 도달해서 멈춘것 확인"
      ],
      "metadata": {
        "colab": {
          "base_uri": "https://localhost:8080/",
          "height": 265
        },
        "id": "jsSDkGv6uclV",
        "outputId": "16da3aa8-2aa9-41b8-ba2b-118272355702"
      },
      "execution_count": null,
      "outputs": [
        {
          "output_type": "display_data",
          "data": {
            "text/plain": [
              "<Figure size 432x288 with 1 Axes>"
            ],
            "image/png": "[encoded data removed]"
          },
          "metadata": {
            "needs_background": "light"
          }
        }
      ]
    },
    {
      "cell_type": "markdown",
      "source": [
        "# CNN"
      ],
      "metadata": {
        "id": "vgcTEDAXwkvZ"
      }
    },
    {
      "cell_type": "code",
      "source": [
        "keras.layers.Conv2D(10,kernel_size=(3,3),activation='relu',padding='same',strides=1)"
      ],
      "metadata": {
        "colab": {
          "base_uri": "https://localhost:8080/"
        },
        "id": "i6-333RfwLDt",
        "outputId": "da9a2b36-2435-4f85-e881-1b671cf9de2f"
      },
      "execution_count": null,
      "outputs": [
        {
          "output_type": "execute_result",
          "data": {
            "text/plain": [
              "<keras.layers.convolutional.Conv2D at 0x7f9b1198a910>"
            ]
          },
          "metadata": {},
          "execution_count": 49
        }
      ]
    },
    {
      "cell_type": "code",
      "source": [
        "keras.layers.MaxPooling2D(2) #2*2 size로 pooling "
      ],
      "metadata": {
        "colab": {
          "base_uri": "https://localhost:8080/"
        },
        "id": "n5ImIKAL1MrT",
        "outputId": "d87d111d-28eb-414a-ea56-3c1d7f5681a5"
      },
      "execution_count": null,
      "outputs": [
        {
          "output_type": "execute_result",
          "data": {
            "text/plain": [
              "<keras.layers.pooling.MaxPooling2D at 0x7f9b0a833710>"
            ]
          },
          "metadata": {},
          "execution_count": 54
        }
      ]
    },
    {
      "cell_type": "code",
      "source": [
        "from tensorflow import keras\n",
        "from sklearn.model_selection import train_test_split"
      ],
      "metadata": {
        "id": "2l5EB0Op5TcS"
      },
      "execution_count": null,
      "outputs": []
    },
    {
      "cell_type": "code",
      "source": [
        "(train_input,train_target),(test_input,test_target) = keras.datasets.fashion_mnist.load_data()\n"
      ],
      "metadata": {
        "id": "5G076iMj5bJ_"
      },
      "execution_count": null,
      "outputs": []
    },
    {
      "cell_type": "code",
      "source": [
        "train_rinput = train_input.reshape(-1,28,28,1)\n",
        "test_rinput = test_input.reshape(-1,28,28,1)\n",
        "train_rinput.shape"
      ],
      "metadata": {
        "colab": {
          "base_uri": "https://localhost:8080/"
        },
        "id": "Zuwu-ecq5yyI",
        "outputId": "d5efde2b-dd34-42fe-8ff9-c7b27f0b01bc"
      },
      "execution_count": null,
      "outputs": [
        {
          "output_type": "execute_result",
          "data": {
            "text/plain": [
              "(60000, 28, 28, 1)"
            ]
          },
          "metadata": {},
          "execution_count": 55
        }
      ]
    },
    {
      "cell_type": "code",
      "source": [
        "train_scaled = train_rinput/255.0 #Min-Max 변환\n",
        "test_scaled = test_rinput/255.0 #Min-Max 변환"
      ],
      "metadata": {
        "id": "FCgcdcRa6DZt"
      },
      "execution_count": null,
      "outputs": []
    },
    {
      "cell_type": "code",
      "source": [
        "model = keras.Sequential()\n",
        "model.add(keras.layers.Conv2D(32,kernel_size=3,activation='relu',padding='same',input_shape=(28,28,1)))\n",
        "model.add(keras.layers.MaxPool2D(2))\n",
        "model.add(keras.layers.Conv2D(16,kernel_size=3,activation='relu',padding='same'))\n",
        "model.add(keras.layers.MaxPool2D(2))\n",
        "model.add(keras.layers.Flatten())\n",
        "model.add(keras.layers.Dense(100,activation='relu')) #100이외 값 가능\n",
        "model.add(keras.layers.Dropout(0.5)) #overfit줄이고 시간도 줄이고\n",
        "model.add(keras.layers.Dense(10,activation='softmax')) \n",
        "model.summary()"
      ],
      "metadata": {
        "colab": {
          "base_uri": "https://localhost:8080/"
        },
        "id": "bmEzlXgY6RuA",
        "outputId": "b9250a29-f0b8-4664-c099-96702941ea83"
      },
      "execution_count": null,
      "outputs": [
        {
          "output_type": "stream",
          "name": "stdout",
          "text": [
            "Model: \"sequential_9\"\n",
            "_________________________________________________________________\n",
            " Layer (type)                Output Shape              Param #   \n",
            "=================================================================\n",
            " conv2d_4 (Conv2D)           (None, 28, 28, 32)        320       \n",
            "                                                                 \n",
            " max_pooling2d_3 (MaxPooling  (None, 14, 14, 32)       0         \n",
            " 2D)                                                             \n",
            "                                                                 \n",
            " conv2d_5 (Conv2D)           (None, 14, 14, 16)        4624      \n",
            "                                                                 \n",
            " max_pooling2d_4 (MaxPooling  (None, 7, 7, 16)         0         \n",
            " 2D)                                                             \n",
            "                                                                 \n",
            " flatten_8 (Flatten)         (None, 784)               0         \n",
            "                                                                 \n",
            " dense_15 (Dense)            (None, 100)               78500     \n",
            "                                                                 \n",
            " dropout_7 (Dropout)         (None, 100)               0         \n",
            "                                                                 \n",
            " dense_16 (Dense)            (None, 10)                1010      \n",
            "                                                                 \n",
            "=================================================================\n",
            "Total params: 84,454\n",
            "Trainable params: 84,454\n",
            "Non-trainable params: 0\n",
            "_________________________________________________________________\n"
          ]
        }
      ]
    },
    {
      "cell_type": "code",
      "source": [
        "keras.utils.plot_model(model)"
      ],
      "metadata": {
        "colab": {
          "base_uri": "https://localhost:8080/",
          "height": 856
        },
        "id": "Oa_M6B4z7CEz",
        "outputId": "f6f12bb1-700f-49e7-b5c3-58aa396ca4eb"
      },
      "execution_count": null,
      "outputs": [
        {
          "output_type": "execute_result",
          "data": {
            "text/plain": [
              "<IPython.core.display.Image object>"
            ],
            "image/png": "[encoded data removed]"
          },
          "metadata": {},
          "execution_count": 61
        }
      ]
    },
    {
      "cell_type": "code",
      "source": [
        "keras.utils.plot_model(model,show_shapes=True)"
      ],
      "metadata": {
        "colab": {
          "base_uri": "https://localhost:8080/",
          "height": 976
        },
        "id": "Aw7p0iVX8g0B",
        "outputId": "3e6d2e1b-8598-45e2-aaa6-ae67bb270975"
      },
      "execution_count": null,
      "outputs": [
        {
          "output_type": "execute_result",
          "data": {
            "text/plain": [
              "<IPython.core.display.Image object>"
            ],
            "image/png": "[encoded data removed]"
          },
          "metadata": {},
          "execution_count": 62
        }
      ]
    },
    {
      "cell_type": "code",
      "source": [
        "from gc import callbacks\n",
        "model.compile(optimizer='adam',loss=keras.losses.sparse_categorical_crossentropy,metrics = 'accuracy')\n",
        "early_stopping_cb= keras.callbacks.EarlyStopping(patience=5,restore_best_weights=True)\n",
        "history = model.fit(train_scaled, train_target, validation_split=0.2,epochs=30000,callbacks=[early_stopping_cb])"
      ],
      "metadata": {
        "colab": {
          "base_uri": "https://localhost:8080/"
        },
        "id": "H7j7CXbk8rYp",
        "outputId": "c30a8209-3b36-4fd2-95a7-df5e5077c8c7"
      },
      "execution_count": null,
      "outputs": [
        {
          "output_type": "stream",
          "name": "stdout",
          "text": [
            "Epoch 1/30000\n",
            "1500/1500 [==============================] - 45s 30ms/step - loss: 0.5898 - accuracy: 0.7909 - val_loss: 0.3660 - val_accuracy: 0.8677\n",
            "Epoch 2/30000\n",
            "1500/1500 [==============================] - 44s 29ms/step - loss: 0.3991 - accuracy: 0.8577 - val_loss: 0.3116 - val_accuracy: 0.8835\n",
            "Epoch 3/30000\n",
            "1500/1500 [==============================] - 44s 30ms/step - loss: 0.3531 - accuracy: 0.8744 - val_loss: 0.2926 - val_accuracy: 0.8910\n",
            "Epoch 4/30000\n",
            "1500/1500 [==============================] - 44s 29ms/step - loss: 0.3210 - accuracy: 0.8844 - val_loss: 0.2718 - val_accuracy: 0.8988\n",
            "Epoch 5/30000\n",
            "1500/1500 [==============================] - 44s 29ms/step - loss: 0.2983 - accuracy: 0.8916 - val_loss: 0.2609 - val_accuracy: 0.9028\n",
            "Epoch 6/30000\n",
            "1500/1500 [==============================] - 44s 29ms/step - loss: 0.2823 - accuracy: 0.8974 - val_loss: 0.2646 - val_accuracy: 0.9030\n",
            "Epoch 7/30000\n",
            "1500/1500 [==============================] - 44s 29ms/step - loss: 0.2693 - accuracy: 0.9009 - val_loss: 0.2441 - val_accuracy: 0.9095\n",
            "Epoch 8/30000\n",
            "1500/1500 [==============================] - 44s 29ms/step - loss: 0.2558 - accuracy: 0.9060 - val_loss: 0.2406 - val_accuracy: 0.9114\n",
            "Epoch 9/30000\n",
            "1500/1500 [==============================] - 44s 29ms/step - loss: 0.2441 - accuracy: 0.9111 - val_loss: 0.2480 - val_accuracy: 0.9090\n",
            "Epoch 10/30000\n",
            "1500/1500 [==============================] - 44s 29ms/step - loss: 0.2358 - accuracy: 0.9134 - val_loss: 0.2427 - val_accuracy: 0.9136\n",
            "Epoch 11/30000\n",
            "1500/1500 [==============================] - 44s 29ms/step - loss: 0.2298 - accuracy: 0.9145 - val_loss: 0.2403 - val_accuracy: 0.9140\n",
            "Epoch 12/30000\n",
            "1500/1500 [==============================] - 44s 29ms/step - loss: 0.2198 - accuracy: 0.9176 - val_loss: 0.2432 - val_accuracy: 0.9100\n",
            "Epoch 13/30000\n",
            "1500/1500 [==============================] - 44s 29ms/step - loss: 0.2131 - accuracy: 0.9210 - val_loss: 0.2480 - val_accuracy: 0.9140\n",
            "Epoch 14/30000\n",
            "1500/1500 [==============================] - 44s 29ms/step - loss: 0.2088 - accuracy: 0.9225 - val_loss: 0.2401 - val_accuracy: 0.9147\n",
            "Epoch 15/30000\n",
            "1500/1500 [==============================] - 44s 29ms/step - loss: 0.2006 - accuracy: 0.9240 - val_loss: 0.2460 - val_accuracy: 0.9128\n",
            "Epoch 16/30000\n",
            "1500/1500 [==============================] - 44s 29ms/step - loss: 0.1975 - accuracy: 0.9264 - val_loss: 0.2447 - val_accuracy: 0.9144\n",
            "Epoch 17/30000\n",
            "1500/1500 [==============================] - 44s 29ms/step - loss: 0.1909 - accuracy: 0.9288 - val_loss: 0.2438 - val_accuracy: 0.9127\n",
            "Epoch 18/30000\n",
            "1500/1500 [==============================] - 49s 33ms/step - loss: 0.1870 - accuracy: 0.9293 - val_loss: 0.2581 - val_accuracy: 0.9142\n",
            "Epoch 19/30000\n",
            "1500/1500 [==============================] - 44s 29ms/step - loss: 0.1831 - accuracy: 0.9308 - val_loss: 0.2380 - val_accuracy: 0.9181\n",
            "Epoch 20/30000\n",
            "1500/1500 [==============================] - 44s 29ms/step - loss: 0.1802 - accuracy: 0.9328 - val_loss: 0.2480 - val_accuracy: 0.9136\n",
            "Epoch 21/30000\n",
            "1500/1500 [==============================] - 45s 30ms/step - loss: 0.1735 - accuracy: 0.9343 - val_loss: 0.2557 - val_accuracy: 0.9162\n",
            "Epoch 22/30000\n",
            "1500/1500 [==============================] - 44s 29ms/step - loss: 0.1705 - accuracy: 0.9363 - val_loss: 0.2438 - val_accuracy: 0.9157\n",
            "Epoch 23/30000\n",
            "1500/1500 [==============================] - 44s 30ms/step - loss: 0.1687 - accuracy: 0.9354 - val_loss: 0.2761 - val_accuracy: 0.9137\n",
            "Epoch 24/30000\n",
            "1500/1500 [==============================] - 45s 30ms/step - loss: 0.1640 - accuracy: 0.9378 - val_loss: 0.2615 - val_accuracy: 0.9150\n"
          ]
        }
      ]
    },
    {
      "cell_type": "code",
      "source": [
        "import matplotlib.pyplot as plt\n",
        "plt.plot(hist.history['loss'],label='loss')\n",
        "plt.plot(hist.history['val_loss'],label='val loss')\n",
        "plt.legend()\n",
        "plt.show()"
      ],
      "metadata": {
        "colab": {
          "base_uri": "https://localhost:8080/",
          "height": 265
        },
        "id": "OGHLBCwX-JqQ",
        "outputId": "4b9a32a8-36b5-4c91-bd9e-ecfdc48a35c1"
      },
      "execution_count": null,
      "outputs": [
        {
          "output_type": "display_data",
          "data": {
            "text/plain": [
              "<Figure size 432x288 with 1 Axes>"
            ],
            "image/png": "[encoded data removed]"
          },
          "metadata": {
            "needs_background": "light"
          }
        }
      ]
    },
    {
      "cell_type": "code",
      "source": [
        "model.evaluate(test_scaled,test_target)"
      ],
      "metadata": {
        "colab": {
          "base_uri": "https://localhost:8080/"
        },
        "id": "IArJ9fGFBE-X",
        "outputId": "aa5dbc1e-2cbc-4996-d754-2a75de993c54"
      },
      "execution_count": null,
      "outputs": [
        {
          "output_type": "stream",
          "name": "stdout",
          "text": [
            "313/313 [==============================] - 3s 9ms/step - loss: 0.2557 - accuracy: 0.9130\n"
          ]
        },
        {
          "output_type": "execute_result",
          "data": {
            "text/plain": [
              "[0.25570762157440186, 0.9129999876022339]"
            ]
          },
          "metadata": {},
          "execution_count": 65
        }
      ]
    },
    {
      "cell_type": "code",
      "source": [
        "plt.imshow(test_scaled[0].reshape(28,28),cmap='gray')\n",
        "plt.show()\n",
        "print(test_target[0])"
      ],
      "metadata": {
        "colab": {
          "base_uri": "https://localhost:8080/",
          "height": 283
        },
        "id": "nk8QZ8LVX6dF",
        "outputId": "53f5ac8d-460a-4dbc-84b5-b381842f9210"
      },
      "execution_count": null,
      "outputs": [
        {
          "output_type": "display_data",
          "data": {
            "text/plain": [
              "<Figure size 432x288 with 1 Axes>"
            ],
            "image/png": "[encoded data removed]"
          },
          "metadata": {
            "needs_background": "light"
          }
        },
        {
          "output_type": "stream",
          "name": "stdout",
          "text": [
            "9\n"
          ]
        }
      ]
    },
    {
      "cell_type": "code",
      "source": [
        "preds = model.predict(test_scaled[0:1]) #다차원구조에서 일차원이 추가\n",
        "print(preds)"
      ],
      "metadata": {
        "colab": {
          "base_uri": "https://localhost:8080/"
        },
        "id": "EEnkvY8wYDa3",
        "outputId": "e6ef90e0-28ef-45c6-b188-379fe9672a88"
      },
      "execution_count": null,
      "outputs": [
        {
          "output_type": "stream",
          "name": "stdout",
          "text": [
            "[[6.2346434e-12 1.4367137e-14 5.5123630e-14 1.6284930e-12 3.2767141e-16\n",
            "  5.1028098e-07 3.0991298e-13 1.6632420e-06 1.4787161e-11 9.9999785e-01]]\n"
          ]
        }
      ]
    },
    {
      "cell_type": "code",
      "source": [
        "model.save('best-cnn-model.h5')"
      ],
      "metadata": {
        "id": "IxYa4fVWYRxa"
      },
      "execution_count": null,
      "outputs": []
    },
    {
      "cell_type": "code",
      "source": [
        "model.layers"
      ],
      "metadata": {
        "colab": {
          "base_uri": "https://localhost:8080/"
        },
        "id": "2ZQCksgzY7EA",
        "outputId": "89cceacb-daae-4e8a-a764-8c0f32615dca"
      },
      "execution_count": null,
      "outputs": [
        {
          "output_type": "execute_result",
          "data": {
            "text/plain": [
              "[<keras.layers.convolutional.Conv2D at 0x7f9b0a7cb050>,\n",
              " <keras.layers.pooling.MaxPooling2D at 0x7f9b0a9d0cd0>,\n",
              " <keras.layers.convolutional.Conv2D at 0x7f9b0a7ec390>,\n",
              " <keras.layers.pooling.MaxPooling2D at 0x7f9b0a778d50>,\n",
              " <keras.layers.core.flatten.Flatten at 0x7f9b0a7ec250>,\n",
              " <keras.layers.core.dense.Dense at 0x7f9b0a7ec450>,\n",
              " <keras.layers.core.dropout.Dropout at 0x7f9b11971350>,\n",
              " <keras.layers.core.dense.Dense at 0x7f9b1192c110>]"
            ]
          },
          "metadata": {},
          "execution_count": 71
        }
      ]
    },
    {
      "cell_type": "code",
      "source": [
        "conv = model.layers[0]\n",
        "print(conv.weights[0].shape,conv.weights[1].shape)"
      ],
      "metadata": {
        "colab": {
          "base_uri": "https://localhost:8080/"
        },
        "id": "pJRvY2QnZFlJ",
        "outputId": "8f1d7801-1eff-4081-8cc5-10cca9b178be"
      },
      "execution_count": null,
      "outputs": [
        {
          "output_type": "stream",
          "name": "stdout",
          "text": [
            "(3, 3, 1, 32) (32,)\n"
          ]
        }
      ]
    },
    {
      "cell_type": "code",
      "source": [
        "print(conv.weights) #가중치 "
      ],
      "metadata": {
        "id": "9OF0xIoEZWTa"
      },
      "execution_count": null,
      "outputs": []
    },
    {
      "cell_type": "code",
      "source": [
        "conv_weights = conv.weights[0].numpy()\n",
        "print(conv_weights.mean(),conv_weights.std())"
      ],
      "metadata": {
        "colab": {
          "base_uri": "https://localhost:8080/"
        },
        "id": "HsjzPVS5ZvOj",
        "outputId": "ffb9f80d-510e-4ffd-e20a-5ace968ab8e8"
      },
      "execution_count": null,
      "outputs": [
        {
          "output_type": "stream",
          "name": "stdout",
          "text": [
            "-0.06182362 0.40108606\n"
          ]
        }
      ]
    },
    {
      "cell_type": "code",
      "source": [
        "plt.hist(conv_weights.reshape(-1,1))\n",
        "plt.xlabel('weight')\n",
        "plt.ylabel('count')\n",
        "plt.show() #가중치 분포"
      ],
      "metadata": {
        "colab": {
          "base_uri": "https://localhost:8080/",
          "height": 279
        },
        "id": "3eq-ppMMZ10c",
        "outputId": "4adcabc3-8327-497d-f256-6bf535c0859b"
      },
      "execution_count": null,
      "outputs": [
        {
          "output_type": "display_data",
          "data": {
            "text/plain": [
              "<Figure size 432x288 with 1 Axes>"
            ],
            "image/png": "[encoded data removed]"
          },
          "metadata": {
            "needs_background": "light"
          }
        }
      ]
    },
    {
      "cell_type": "code",
      "source": [
        "#32개 그래프 영역 만들고 커널 출력\n",
        "fig,axs = plt.subplots(2,16)\n",
        "for i in range(2):\n",
        "  for j in range(16):\n",
        "    axs[i,j].imshow(conv_weights[:,:,0,i*16+j],vmin=0.5,vmax=0.5) # conv_weights:가중치 \n",
        "    axs[i,j].axis('off')\n",
        "\n",
        "plt.show()"
      ],
      "metadata": {
        "colab": {
          "base_uri": "https://localhost:8080/",
          "height": 167
        },
        "id": "UM3CNLfvak3A",
        "outputId": "941cb383-6a07-4567-deb3-f0b95d181ebb"
      },
      "execution_count": null,
      "outputs": [
        {
          "output_type": "display_data",
          "data": {
            "text/plain": [
              "<Figure size 432x288 with 32 Axes>"
            ],
            "image/png": "[encoded data removed]"
          },
          "metadata": {
            "needs_background": "light"
          }
        }
      ]
    },
    {
      "cell_type": "code",
      "source": [
        "model2 = keras.Sequential()\n",
        "model2.add(keras.layers.Conv2D(32,kernel_size=3,activation='relu',padding='same',input_shape=(28,28,1)))\n",
        "model2.add(keras.layers.MaxPool2D(2))\n",
        "model2.add(keras.layers.Conv2D(16,kernel_size=3,activation='relu',padding='same'))\n",
        "model2.add(keras.layers.MaxPool2D(2))\n",
        "model2.add(keras.layers.Flatten())\n",
        "model2.add(keras.layers.Dense(100,activation='relu')) #100이외 값 가능\n",
        "model2.add(keras.layers.Dropout(0.5)) #overfit줄이고 시간도 줄이고\n",
        "model2.add(keras.layers.Dense(10,activation='softmax')) #100이외 값 가능\n",
        "model2.summary()"
      ],
      "metadata": {
        "colab": {
          "base_uri": "https://localhost:8080/"
        },
        "id": "dXWIyDs5bIY7",
        "outputId": "7265124a-279c-4f90-ee25-4d39f49c591d"
      },
      "execution_count": null,
      "outputs": [
        {
          "output_type": "stream",
          "name": "stdout",
          "text": [
            "Model: \"sequential_10\"\n",
            "_________________________________________________________________\n",
            " Layer (type)                Output Shape              Param #   \n",
            "=================================================================\n",
            " conv2d_6 (Conv2D)           (None, 28, 28, 32)        320       \n",
            "                                                                 \n",
            " max_pooling2d_5 (MaxPooling  (None, 14, 14, 32)       0         \n",
            " 2D)                                                             \n",
            "                                                                 \n",
            " conv2d_7 (Conv2D)           (None, 14, 14, 16)        4624      \n",
            "                                                                 \n",
            " max_pooling2d_6 (MaxPooling  (None, 7, 7, 16)         0         \n",
            " 2D)                                                             \n",
            "                                                                 \n",
            " flatten_9 (Flatten)         (None, 784)               0         \n",
            "                                                                 \n",
            " dense_17 (Dense)            (None, 100)               78500     \n",
            "                                                                 \n",
            " dropout_8 (Dropout)         (None, 100)               0         \n",
            "                                                                 \n",
            " dense_18 (Dense)            (None, 10)                1010      \n",
            "                                                                 \n",
            "=================================================================\n",
            "Total params: 84,454\n",
            "Trainable params: 84,454\n",
            "Non-trainable params: 0\n",
            "_________________________________________________________________\n"
          ]
        }
      ]
    },
    {
      "cell_type": "code",
      "source": [
        "conv2 = model2.layers[0]\n",
        "conv_weights2  = conv2.weights[0].numpy()"
      ],
      "metadata": {
        "id": "NwnpSkXIbo1c"
      },
      "execution_count": null,
      "outputs": []
    },
    {
      "cell_type": "code",
      "source": [
        "fig,axs = plt.subplots(2,16)\n",
        "for i in range(2):\n",
        "  for j in range(16):\n",
        "    axs[i,j].imshow(conv_weights2[:,:,0,i*16+j],vmin=0.5,vmax=0.5) # conv_weights:가중치 \n",
        "    axs[i,j].axis('off')\n",
        "\n",
        "plt.show()"
      ],
      "metadata": {
        "colab": {
          "base_uri": "https://localhost:8080/",
          "height": 167
        },
        "id": "Q-AxuGvbbysc",
        "outputId": "537d4d8f-56c6-4378-abea-ebf7c2fa789a"
      },
      "execution_count": null,
      "outputs": [
        {
          "output_type": "display_data",
          "data": {
            "text/plain": [
              "<Figure size 432x288 with 32 Axes>"
            ],
            "image/png": "[encoded data removed]"
          },
          "metadata": {
            "needs_background": "light"
          }
        }
      ]
    },
    {
      "cell_type": "code",
      "source": [
        "from sklearn.linear_model import LinearRegression\n",
        "import numpy as np\n",
        "lr = LinearRegression()\n",
        "lr.coef_ = np.random.uniform(0,1)\n",
        "print(lr.coef_)"
      ],
      "metadata": {
        "colab": {
          "base_uri": "https://localhost:8080/"
        },
        "id": "xcEJPfXrcJDl",
        "outputId": "497e570f-3a29-4ad8-b3ad-d0745ea8c280"
      },
      "execution_count": null,
      "outputs": [
        {
          "output_type": "stream",
          "name": "stdout",
          "text": [
            "0.9433021858547679\n"
          ]
        }
      ]
    },
    {
      "cell_type": "code",
      "source": [
        "print(model.input)"
      ],
      "metadata": {
        "colab": {
          "base_uri": "https://localhost:8080/"
        },
        "id": "Yth1ctgQeEwT",
        "outputId": "875c0fe4-c03c-4bd3-f428-fc46aa62c8b8"
      },
      "execution_count": null,
      "outputs": [
        {
          "output_type": "stream",
          "name": "stdout",
          "text": [
            "KerasTensor(type_spec=TensorSpec(shape=(None, 28, 28, 1), dtype=tf.float32, name='conv2d_4_input'), name='conv2d_4_input', description=\"created by layer 'conv2d_4_input'\")\n"
          ]
        }
      ]
    },
    {
      "cell_type": "code",
      "source": [
        "print(model.layers[0].output) # 특성 맵 : 32개"
      ],
      "metadata": {
        "colab": {
          "base_uri": "https://localhost:8080/"
        },
        "id": "aKNd_KQheTGK",
        "outputId": "864a7efc-86a9-4f86-e5d3-61976f8f1f4e"
      },
      "execution_count": null,
      "outputs": [
        {
          "output_type": "stream",
          "name": "stdout",
          "text": [
            "KerasTensor(type_spec=TensorSpec(shape=(None, 28, 28, 32), dtype=tf.float32, name=None), name='conv2d_4/Relu:0', description=\"created by layer 'conv2d_4'\")\n"
          ]
        }
      ]
    },
    {
      "cell_type": "code",
      "source": [
        "conv_acti = keras.Model(model.input,model.layers[0].output)\n",
        "print(conv_acti)"
      ],
      "metadata": {
        "colab": {
          "base_uri": "https://localhost:8080/"
        },
        "id": "cwGdFwxcd7U-",
        "outputId": "c69ff3e0-7817-4e2f-b1d4-6d5fccbebde3"
      },
      "execution_count": null,
      "outputs": [
        {
          "output_type": "stream",
          "name": "stdout",
          "text": [
            "<keras.engine.functional.Functional object at 0x7f9b0f9486d0>\n"
          ]
        }
      ]
    },
    {
      "cell_type": "code",
      "source": [
        "train_input[0:1].shape"
      ],
      "metadata": {
        "colab": {
          "base_uri": "https://localhost:8080/"
        },
        "id": "hCQyRRxKemlR",
        "outputId": "8f5c9230-38f5-4834-8b62-cd9a4822d98c"
      },
      "execution_count": null,
      "outputs": [
        {
          "output_type": "execute_result",
          "data": {
            "text/plain": [
              "(1, 28, 28)"
            ]
          },
          "metadata": {},
          "execution_count": 89
        }
      ]
    },
    {
      "cell_type": "code",
      "source": [
        "inputs = train_input[0:1].reshape(-1,28,28,1)/255.0\n",
        "inputs.shape"
      ],
      "metadata": {
        "colab": {
          "base_uri": "https://localhost:8080/"
        },
        "id": "fL7CrqEDes7_",
        "outputId": "ceaa5740-827a-49b5-d78e-0936f6cf4adc"
      },
      "execution_count": null,
      "outputs": [
        {
          "output_type": "execute_result",
          "data": {
            "text/plain": [
              "(1, 28, 28, 1)"
            ]
          },
          "metadata": {},
          "execution_count": 91
        }
      ]
    },
    {
      "cell_type": "code",
      "source": [
        "feature_maps = conv_acti.predict(inputs)"
      ],
      "metadata": {
        "id": "o1YNGMmTe9hh"
      },
      "execution_count": null,
      "outputs": []
    },
    {
      "cell_type": "code",
      "source": [
        "print(feature_maps.shape)"
      ],
      "metadata": {
        "colab": {
          "base_uri": "https://localhost:8080/"
        },
        "id": "Ns9F8FtPfS3v",
        "outputId": "86c059a9-3bba-416f-d2a7-965c5ba90dd1"
      },
      "execution_count": null,
      "outputs": [
        {
          "output_type": "stream",
          "name": "stdout",
          "text": [
            "(1, 28, 28, 32)\n"
          ]
        }
      ]
    },
    {
      "cell_type": "code",
      "source": [
        "fig,axs = plt.subplots(4,8)\n",
        "for i in range(4):\n",
        "  for j in range(8):\n",
        "    axs[i,j].imshow(feature_maps[0,:,:,i*8+j])\n",
        "    axs[i,j].axis('off') #x축값생략\n",
        "plt.show()"
      ],
      "metadata": {
        "colab": {
          "base_uri": "https://localhost:8080/",
          "height": 237
        },
        "id": "Z_KW-ghHfa6Z",
        "outputId": "4af2d5bd-4a66-4604-ef43-4cde12a02378"
      },
      "execution_count": null,
      "outputs": [
        {
          "output_type": "display_data",
          "data": {
            "text/plain": [
              "<Figure size 432x288 with 32 Axes>"
            ],
            "image/png": "[encoded data removed]"
          },
          "metadata": {
            "needs_background": "light"
          }
        }
      ]
    },
    {
      "cell_type": "markdown",
      "source": [
        "#보너스 강의 -OpenCV 맛"
      ],
      "metadata": {
        "id": "gM0cjMwYi4YD"
      }
    },
    {
      "cell_type": "code",
      "source": [
        "import cv2\n",
        "from google.colab.patches import cv2_imshow"
      ],
      "metadata": {
        "id": "sBImX_R_gQth"
      },
      "execution_count": null,
      "outputs": []
    },
    {
      "cell_type": "code",
      "source": [
        "image = np.zeros((100,255,3),np.uint8)"
      ],
      "metadata": {
        "id": "seC5gAKRjw3g"
      },
      "execution_count": null,
      "outputs": []
    },
    {
      "cell_type": "code",
      "source": [
        "\n",
        "for i in range(0, 180):\n",
        "  image[:,i,0]=i\n",
        "image[:,:,1]=255\n",
        "image[:,:,2]=255\n",
        "img = cv2.cvtColor(image, cv2.COLOR_HSV2BGR)\n",
        "cv2_imshow(img)"
      ],
      "metadata": {
        "colab": {
          "base_uri": "https://localhost:8080/",
          "height": 117
        },
        "id": "6tfI7Cmcj8Px",
        "outputId": "d47bbaf1-45b5-4d4a-fd18-552f7fd48fb8"
      },
      "execution_count": null,
      "outputs": [
        {
          "output_type": "display_data",
          "data": {
            "text/plain": [
              "<PIL.Image.Image image mode=RGB size=255x100 at 0x7F9B103C70D0>"
            ],
            "image/png": "[encoded data removed]"
          },
          "metadata": {}
        }
      ]
    },
    {
      "cell_type": "code",
      "source": [
        "\n",
        "image = np.zeros((100,255,3), np.uint8)\n",
        "image[:,:,0] = 0\n",
        "for i in range(0, 255):\n",
        "  image[:,i,1]=i\n",
        "image[:,:,2]=255\n",
        "img = cv2.cvtColor(image, cv2.COLOR_HSV2BGR)\n",
        "cv2_imshow(img)"
      ],
      "metadata": {
        "colab": {
          "base_uri": "https://localhost:8080/",
          "height": 117
        },
        "id": "YcD8uGFFktgq",
        "outputId": "3358ffa4-aca9-4094-e9fb-e3574327a026"
      },
      "execution_count": null,
      "outputs": [
        {
          "output_type": "display_data",
          "data": {
            "text/plain": [
              "<PIL.Image.Image image mode=RGB size=255x100 at 0x7F9B103C7A90>"
            ],
            "image/png": "[encoded data removed]"
          },
          "metadata": {}
        }
      ]
    },
    {
      "cell_type": "code",
      "source": [
        "image = np.zeros((100,255,3),np.uint8)\n",
        "image[:,:,0]=0\n",
        "for i in range(0,255):\n",
        "  image[:,i,2]=i\n",
        "image[:,:,1]=255\n",
        "img = cv2.cvtColor(image,cv2.COLOR_HSV2BGR)\n",
        "cv2_imshow(img) "
      ],
      "metadata": {
        "colab": {
          "base_uri": "https://localhost:8080/",
          "height": 117
        },
        "id": "QldaLFfXl9Ci",
        "outputId": "97a87562-61d7-4174-dc60-234ce4a6d6f5"
      },
      "execution_count": null,
      "outputs": [
        {
          "output_type": "display_data",
          "data": {
            "text/plain": [
              "<PIL.Image.Image image mode=RGB size=255x100 at 0x7F9B103C7690>"
            ],
            "image/png": "[encoded data removed]"
          },
          "metadata": {}
        }
      ]
    },
    {
      "cell_type": "code",
      "source": [
        "path = '/content/KakaoTalk_20220518_141744196.png'\n",
        "src_image = cv2.imread(path,cv2.IMREAD_COLOR)\n",
        "cv2_imshow(src_image)"
      ],
      "metadata": {
        "colab": {
          "base_uri": "https://localhost:8080/",
          "height": 276
        },
        "id": "vpPl5-G-mWUF",
        "outputId": "737d66b4-9e32-4791-abb2-3ff311fbf8de"
      },
      "execution_count": null,
      "outputs": [
        {
          "output_type": "display_data",
          "data": {
            "text/plain": [
              "<PIL.Image.Image image mode=RGB size=532x259 at 0x7F9B1047E250>"
            ],
            "image/png": "[encoded data removed]"
          },
          "metadata": {}
        }
      ]
    },
    {
      "cell_type": "code",
      "source": [
        "cpy_image = src_image.copy()\n",
        "gray_image = cv2.cvtColor(src_image,cv2.COLOR_BGR2GRAY)\n",
        "cv2_imshow(gray_image)"
      ],
      "metadata": {
        "colab": {
          "base_uri": "https://localhost:8080/",
          "height": 276
        },
        "id": "f9jQO-mUmtpn",
        "outputId": "19b33698-74b0-427a-c6e1-b054a8c356c5"
      },
      "execution_count": null,
      "outputs": [
        {
          "output_type": "display_data",
          "data": {
            "text/plain": [
              "<PIL.Image.Image image mode=L size=532x259 at 0x7F9B103C48D0>"
            ],
            "image/png": "[encoded data removed]"
          },
          "metadata": {}
        }
      ]
    },
    {
      "cell_type": "code",
      "source": [
        "src_image.shape, gray_image.shape"
      ],
      "metadata": {
        "colab": {
          "base_uri": "https://localhost:8080/"
        },
        "id": "KJkSteVQnVDa",
        "outputId": "157f1458-7ec2-4e4c-cf63-86b0d586e113"
      },
      "execution_count": null,
      "outputs": [
        {
          "output_type": "execute_result",
          "data": {
            "text/plain": [
              "((259, 532, 3), (259, 532))"
            ]
          },
          "metadata": {},
          "execution_count": 115
        }
      ]
    },
    {
      "cell_type": "code",
      "source": [
        "blur_image = cv2.GaussianBlur(gray_image,(3,3),0) #3*3으로 넓어지는데 연해짐 gaussianblur\n",
        "cv2_imshow(blur_image)"
      ],
      "metadata": {
        "colab": {
          "base_uri": "https://localhost:8080/",
          "height": 276
        },
        "id": "Tp33N_F5nYZF",
        "outputId": "4074d28b-c253-4c0c-e253-4abd79c74e19"
      },
      "execution_count": null,
      "outputs": [
        {
          "output_type": "display_data",
          "data": {
            "text/plain": [
              "<PIL.Image.Image image mode=L size=532x259 at 0x7F9B103C41D0>"
            ],
            "image/png": "[encoded data removed]"
          },
          "metadata": {}
        }
      ]
    },
    {
      "cell_type": "code",
      "source": [
        "#  블러 처리 - 글자 테두리 잡기 전에 하는 것\n",
        "canny_image = cv2.Canny(blur_image,100,200)\n",
        "cv2_imshow(canny_image)"
      ],
      "metadata": {
        "colab": {
          "base_uri": "https://localhost:8080/",
          "height": 276
        },
        "id": "NhyqLCtmocWX",
        "outputId": "534a26e2-f279-435a-aeb3-ebe31b11e519"
      },
      "execution_count": null,
      "outputs": [
        {
          "output_type": "display_data",
          "data": {
            "text/plain": [
              "<PIL.Image.Image image mode=L size=532x259 at 0x7F9B1047B210>"
            ],
            "image/png": "[encoded data removed]"
          },
          "metadata": {}
        }
      ]
    },
    {
      "cell_type": "code",
      "source": [
        "contours,_= cv2.findContours(canny_image,cv2.RETR_TREE,cv2.CHAIN_APPROX_SIMPLE) #contour: 테두리\n",
        "\n",
        "store_xywh=[]\n",
        "for contour in contours:\n",
        "  x,y,w,h = cv2.boundingRect(contour)\n",
        "  flag = False\n",
        "  if w>30 and h>=40:\n",
        "    print(x,y,w,h) # 안쪽 곡선과 바깥쪽 곡선의 contour가 같아서 중복된게 나올 수 있음"
      ],
      "metadata": {
        "colab": {
          "base_uri": "https://localhost:8080/"
        },
        "id": "9Q9vNhGLrXsj",
        "outputId": "7d2338cc-0e91-4ae7-f0bd-283c1d5f43a7"
      },
      "execution_count": null,
      "outputs": [
        {
          "output_type": "stream",
          "name": "stdout",
          "text": [
            "414 166 49 53\n",
            "414 166 49 53\n",
            "416 168 44 49\n",
            "416 168 44 49\n",
            "137 164 35 61\n",
            "137 164 35 61\n",
            "39 158 42 73\n",
            "39 158 42 73\n",
            "216 151 39 72\n",
            "317 144 43 89\n",
            "317 144 43 89\n",
            "123 49 66 43\n",
            "421 47 75 48\n",
            "55 46 36 58\n",
            "55 46 36 58\n",
            "218 38 45 55\n",
            "218 38 45 55\n",
            "321 37 64 66\n"
          ]
        }
      ]
    },
    {
      "cell_type": "code",
      "source": [
        "contours,_= cv2.findContours(canny_image,cv2.RETR_TREE,cv2.CHAIN_APPROX_SIMPLE)\n",
        "\n",
        "store_xywh=[]\n",
        "for contour in contours:\n",
        "  x,y,w,h = cv2.boundingRect(contour)\n",
        "  flag = False\n",
        "  if w>30 and h>=40:\n",
        "    #print(x,y,w,h) # 안쪽 폐곡선과 바깥쪽 폐곡선의 contour가 같아서 중복된게 나올 수 있음\n",
        "    for sv in store_xywh:\n",
        "      gx = abs(sv[0]-x)\n",
        "      gy = abs(sv[1]-y)\n",
        "      if gx<5 and gy<5: \n",
        "        flag = True\n",
        "        break\n",
        "  else:\n",
        "    flag = True\n",
        "  if flag == False:\n",
        "    store_xywh.append([x,y,w,h])\n",
        "\n",
        "for sv in store_xywh:\n",
        "  print(sv)"
      ],
      "metadata": {
        "colab": {
          "base_uri": "https://localhost:8080/"
        },
        "id": "DZSI8xLZo-vw",
        "outputId": "4c85a91e-b256-49af-8398-060e9468073f"
      },
      "execution_count": null,
      "outputs": [
        {
          "output_type": "stream",
          "name": "stdout",
          "text": [
            "[414, 166, 49, 53]\n",
            "[137, 164, 35, 61]\n",
            "[39, 158, 42, 73]\n",
            "[216, 151, 39, 72]\n",
            "[317, 144, 43, 89]\n",
            "[123, 49, 66, 43]\n",
            "[421, 47, 75, 48]\n",
            "[55, 46, 36, 58]\n",
            "[218, 38, 45, 55]\n",
            "[321, 37, 64, 66]\n"
          ]
        }
      ]
    },
    {
      "cell_type": "code",
      "source": [
        "for sv in store_xywh:\n",
        "  x,y,w,h = sv\n",
        "  cv2.rectangle(src_image,(x-10,y-10),(x+w+20,y+h+20),(0,255,0),1) #시작포인트, 길이(범위), 색, 라인두께 \n",
        "cv2_imshow(src_image)"
      ],
      "metadata": {
        "colab": {
          "base_uri": "https://localhost:8080/",
          "height": 276
        },
        "id": "j9sTaq_vqCtc",
        "outputId": "44b77088-a9db-441a-aaeb-04d9ac3669c9"
      },
      "execution_count": null,
      "outputs": [
        {
          "output_type": "display_data",
          "data": {
            "text/plain": [
              "<PIL.Image.Image image mode=RGB size=532x259 at 0x7F9B1048D390>"
            ],
            "image/png": "[encoded data removed]"
          },
          "metadata": {}
        }
      ]
    },
    {
      "cell_type": "markdown",
      "source": [
        "#손글씨"
      ],
      "metadata": {
        "id": "zSk6AG8rwZay"
      }
    },
    {
      "cell_type": "code",
      "source": [
        "(image_train,label_train),(image_test,label_test) = keras.datasets.mnist.load_data()\n",
        "print(image_train.shape)"
      ],
      "metadata": {
        "colab": {
          "base_uri": "https://localhost:8080/"
        },
        "id": "ChSWIKffsGRM",
        "outputId": "62b416b9-0333-409e-fe5f-8bba7ef7124f"
      },
      "execution_count": null,
      "outputs": [
        {
          "output_type": "stream",
          "name": "stdout",
          "text": [
            "Downloading data from https://storage.googleapis.com/tensorflow/tf-keras-datasets/mnist.npz\n",
            "11493376/11490434 [==============================] - 0s 0us/step\n",
            "11501568/11490434 [==============================] - 0s 0us/step\n",
            "(60000, 28, 28)\n"
          ]
        }
      ]
    },
    {
      "cell_type": "code",
      "source": [
        "np.unique(label_train,return_counts=True)"
      ],
      "metadata": {
        "colab": {
          "base_uri": "https://localhost:8080/"
        },
        "id": "QUd1FPVGxIoT",
        "outputId": "b36bf10d-fc48-4a7a-a857-7c9eb2364afa"
      },
      "execution_count": null,
      "outputs": [
        {
          "output_type": "execute_result",
          "data": {
            "text/plain": [
              "(array([0, 1, 2, 3, 4, 5, 6, 7, 8, 9], dtype=uint8),\n",
              " array([5923, 6742, 5958, 6131, 5842, 5421, 5918, 6265, 5851, 5949]))"
            ]
          },
          "metadata": {},
          "execution_count": 131
        }
      ]
    },
    {
      "cell_type": "code",
      "source": [
        "#구조 변경\n",
        "image_train2 = image_train.reshape(-1,28*28)\n",
        "image_test2 = image_test.reshape(-1,28*28)"
      ],
      "metadata": {
        "id": "FpnEaxZJyMzI"
      },
      "execution_count": null,
      "outputs": []
    },
    {
      "cell_type": "code",
      "source": [
        "from sklearn import svm\n"
      ],
      "metadata": {
        "id": "E1YoXSIixRpu"
      },
      "execution_count": null,
      "outputs": []
    },
    {
      "cell_type": "code",
      "source": [
        "svm = svm. SVC() #svm의 분류 모델 생성\n",
        "svm.fit(image_train2, label_train)"
      ],
      "metadata": {
        "colab": {
          "base_uri": "https://localhost:8080/"
        },
        "id": "AJs91h3Nx827",
        "outputId": "771e2c40-82e5-4e27-fda1-9cbf87cb73ef"
      },
      "execution_count": null,
      "outputs": [
        {
          "output_type": "execute_result",
          "data": {
            "text/plain": [
              "SVC()"
            ]
          },
          "metadata": {},
          "execution_count": 134
        }
      ]
    },
    {
      "cell_type": "code",
      "source": [
        "pval = svm.predict(image_test2)"
      ],
      "metadata": {
        "id": "VD-mqzMFybYh"
      },
      "execution_count": null,
      "outputs": []
    },
    {
      "cell_type": "code",
      "source": [
        "from sklearn import metrics\n",
        "score = metrics.accuracy_score(pval,label_test)\n",
        "print(score)"
      ],
      "metadata": {
        "colab": {
          "base_uri": "https://localhost:8080/"
        },
        "id": "Qs8nFfGd02KN",
        "outputId": "b83b8eb2-9478-4ad3-f621-f11f98c7eed1"
      },
      "execution_count": null,
      "outputs": [
        {
          "output_type": "stream",
          "name": "stdout",
          "text": [
            "0.9792\n"
          ]
        }
      ]
    },
    {
      "cell_type": "code",
      "source": [
        "#수치형 데이터 -> 범주형 데이터(좀 더 디테일한 결과 줌)\n",
        "from keras.utils import np_utils\n",
        "label_train2 = np_utils.to_categorical(label_train)\n",
        "print(label_train[0])\n",
        "print(label_train2[0])"
      ],
      "metadata": {
        "colab": {
          "base_uri": "https://localhost:8080/"
        },
        "id": "7Z9pM5zB1VV4",
        "outputId": "5936f7d3-0c50-4e41-df6c-2afcb5b13208"
      },
      "execution_count": null,
      "outputs": [
        {
          "output_type": "stream",
          "name": "stdout",
          "text": [
            "5\n",
            "[0. 0. 0. 0. 0. 1. 0. 0. 0. 0.]\n"
          ]
        }
      ]
    },
    {
      "cell_type": "code",
      "source": [
        "label_test2 = np_utils.to_categorical(label_test)"
      ],
      "metadata": {
        "id": "QYxGTSaf5U-h"
      },
      "execution_count": null,
      "outputs": []
    },
    {
      "cell_type": "code",
      "source": [
        "scaled_train = image_train /255.0 # 0~1 사이의 실수 나와야 하므로 \n",
        "scaled_test = image_test/255.0"
      ],
      "metadata": {
        "id": "Mreir_BI2FYs"
      },
      "execution_count": null,
      "outputs": []
    },
    {
      "cell_type": "code",
      "source": [
        "from keras import layers,models\n",
        "model = models.Sequential()"
      ],
      "metadata": {
        "id": "qYslDHWS2ot3"
      },
      "execution_count": null,
      "outputs": []
    },
    {
      "cell_type": "code",
      "source": [
        "from keras.backend import categorical_crossentropy\n",
        "model.add(layers.Dense(100,activation='relu',input_shape=(784,)))\n",
        "model.add(layers.Dense(28,activation='relu'))\n",
        "model.add(layers.Dense(10,activation='softmax'))\n",
        "model.compile(loss=keras.losses.categorical_crossentropy,metrics=['accuracy'])\n",
        "history = model.fit(image_train2,label_train2,epochs=15)"
      ],
      "metadata": {
        "colab": {
          "base_uri": "https://localhost:8080/"
        },
        "id": "h2YiRZ6Q3It9",
        "outputId": "86d599f3-ea42-4f07-c3b1-a8416bf693f4"
      },
      "execution_count": null,
      "outputs": [
        {
          "output_type": "stream",
          "name": "stdout",
          "text": [
            "Epoch 1/15\n",
            "1875/1875 [==============================] - 7s 3ms/step - loss: 1.9425 - accuracy: 0.2450\n",
            "Epoch 2/15\n",
            "1875/1875 [==============================] - 6s 3ms/step - loss: 1.5679 - accuracy: 0.3497\n",
            "Epoch 3/15\n",
            "1875/1875 [==============================] - 6s 3ms/step - loss: 1.4399 - accuracy: 0.3713\n",
            "Epoch 4/15\n",
            "1875/1875 [==============================] - 6s 3ms/step - loss: 1.2764 - accuracy: 0.4494\n",
            "Epoch 5/15\n",
            "1875/1875 [==============================] - 6s 3ms/step - loss: 1.2221 - accuracy: 0.4609\n",
            "Epoch 6/15\n",
            "1875/1875 [==============================] - 6s 3ms/step - loss: 1.1674 - accuracy: 0.4734\n",
            "Epoch 7/15\n",
            "1875/1875 [==============================] - 6s 3ms/step - loss: 1.1584 - accuracy: 0.4790\n",
            "Epoch 8/15\n",
            "1875/1875 [==============================] - 7s 4ms/step - loss: 1.1295 - accuracy: 0.4800\n",
            "Epoch 9/15\n",
            "1875/1875 [==============================] - 9s 5ms/step - loss: 1.1044 - accuracy: 0.4875\n",
            "Epoch 10/15\n",
            "1875/1875 [==============================] - 7s 4ms/step - loss: 1.0910 - accuracy: 0.4880\n",
            "Epoch 11/15\n",
            "1875/1875 [==============================] - 6s 3ms/step - loss: 1.0976 - accuracy: 0.4886\n",
            "Epoch 12/15\n",
            "1875/1875 [==============================] - 6s 3ms/step - loss: 1.0950 - accuracy: 0.4845\n",
            "Epoch 13/15\n",
            "1875/1875 [==============================] - 6s 3ms/step - loss: 1.0866 - accuracy: 0.4890\n",
            "Epoch 14/15\n",
            "1875/1875 [==============================] - 6s 3ms/step - loss: 1.0713 - accuracy: 0.4877\n",
            "Epoch 15/15\n",
            "1875/1875 [==============================] - 6s 3ms/step - loss: 1.0560 - accuracy: 0.4897\n"
          ]
        }
      ]
    },
    {
      "cell_type": "code",
      "source": [
        "score = model.evaluate(image_test2,label_test2)\n",
        "print(score)"
      ],
      "metadata": {
        "colab": {
          "base_uri": "https://localhost:8080/"
        },
        "id": "6jatXU8i4GuK",
        "outputId": "5f4382f4-a963-4fb9-bc2a-e4982fb52542"
      },
      "execution_count": null,
      "outputs": [
        {
          "output_type": "stream",
          "name": "stdout",
          "text": [
            "313/313 [==============================] - 1s 2ms/step - loss: 1.0428 - accuracy: 0.4973\n",
            "[1.0427898168563843, 0.49729999899864197]\n"
          ]
        }
      ]
    },
    {
      "cell_type": "code",
      "source": [
        ""
      ],
      "metadata": {
        "id": "vE2SD4PL49Wv"
      },
      "execution_count": null,
      "outputs": []
    }
  ]
}